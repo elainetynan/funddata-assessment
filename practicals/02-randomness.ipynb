{
 "cells": [
  {
   "cell_type": "markdown",
   "id": "58dc37fd",
   "metadata": {},
   "source": [
    "# Randomness"
   ]
  },
  {
   "cell_type": "code",
   "execution_count": 7,
   "id": "ddd7b8c2",
   "metadata": {},
   "outputs": [
    {
     "name": "stdout",
     "output_type": "stream",
     "text": [
      "[1 1 0 0 1 0 1 1 1 0 1 1 1 0 0 1 0 0 0 0 0 0 0 1 0 0 1 1 0 0 1 1 1 0 1 1 1\n",
      " 0 0 0 1 1 1 0 0 1 1 0 1 1 0 0 0 1 0 0 0 1 1 1 0 1 1 0 0 1 0 0 1 1 0 1 1 0\n",
      " 1 0 1 1 1 0 0 0 0 0 0 0 0 0 1 1 0 1 0 0 0 1 0 1 0 1]\n"
     ]
    }
   ],
   "source": [
    "import numpy as np\n",
    "\n",
    "# FLip a fair coin once.\n",
    "#np.random.binomial(1, 0.5)\n",
    "\n",
    "# Flip a fair coin 100 times\n",
    "print(np.random.binomial(1, 0.5, 100))"
   ]
  },
  {
   "cell_type": "code",
   "execution_count": 8,
   "id": "5544d2ab",
   "metadata": {},
   "outputs": [
    {
     "name": "stdout",
     "output_type": "stream",
     "text": [
      "52\n"
     ]
    }
   ],
   "source": [
    "# Flip a fair coin 100 times, giving only the total number of heads.\n",
    "print(np.random.binomial(100, 0.5))"
   ]
  },
  {
   "cell_type": "code",
   "execution_count": 9,
   "id": "f7541079",
   "metadata": {},
   "outputs": [
    {
     "name": "stdout",
     "output_type": "stream",
     "text": [
      "[0 0 0 0 1 1 1 0 1 1]\n",
      "[1 0 0 1 0 1 0 1 0 1]\n",
      "[0 0 0 0 1 0 1 1 1 1]\n",
      "Total generated: 11\n"
     ]
    }
   ],
   "source": [
    "# Keep flipping coins until we get 3 examples of getting 5 heads in 10 coin tosses.\n",
    "\n",
    "# Number of examples.\n",
    "N = 3\n",
    "\n",
    "# Keep track of number of arrays generated.\n",
    "total_no = 0\n",
    "\n",
    "# Keep trying until we get 3 examples.\n",
    "while N > 0:\n",
    "    # Add 1 to total.\n",
    "    total_no = total_no + 1\n",
    "    # Toss 10 coins.\n",
    "    tosses = np.random.binomial(1, 0.5, 10)\n",
    "    # Check if we got 5 heads.\n",
    "    if tosses.sum() == 5:\n",
    "        # If we got 5 heads, print the list of heads/tails.\n",
    "        print(tosses)\n",
    "        # Reduce the number of examples left to find by 1.\n",
    "        N = N - 1\n",
    "\n",
    "print(f'Total generated: {total_no}')"
   ]
  },
  {
   "cell_type": "code",
   "execution_count": 10,
   "id": "91ffe082",
   "metadata": {},
   "outputs": [
    {
     "data": {
      "text/plain": [
       "252"
      ]
     },
     "execution_count": 10,
     "metadata": {},
     "output_type": "execute_result"
    }
   ],
   "source": [
    "(10 * 9 * 8 * 7 * 6) // (5 * 4 * 3 * 2 * 1)"
   ]
  },
  {
   "cell_type": "code",
   "execution_count": 11,
   "id": "75cf0a58",
   "metadata": {},
   "outputs": [
    {
     "name": "stdout",
     "output_type": "stream",
     "text": [
      "( 1, 2)\n",
      "( 1, 3)\n",
      "( 1, 4)\n",
      "( 1, 5)\n",
      "( 1, 6)\n",
      "( 1, 7)\n",
      "( 1, 8)\n",
      "( 1, 9)\n",
      "( 1,10)\n",
      "( 2, 1)\n",
      "( 2, 3)\n",
      "( 2, 4)\n",
      "( 2, 5)\n",
      "( 2, 6)\n",
      "( 2, 7)\n",
      "( 2, 8)\n",
      "( 2, 9)\n",
      "( 2,10)\n",
      "( 3, 1)\n",
      "( 3, 2)\n",
      "( 3, 4)\n",
      "( 3, 5)\n",
      "( 3, 6)\n",
      "( 3, 7)\n",
      "( 3, 8)\n",
      "( 3, 9)\n",
      "( 3,10)\n",
      "( 4, 1)\n",
      "( 4, 2)\n",
      "( 4, 3)\n",
      "( 4, 5)\n",
      "( 4, 6)\n",
      "( 4, 7)\n",
      "( 4, 8)\n",
      "( 4, 9)\n",
      "( 4,10)\n",
      "( 5, 1)\n",
      "( 5, 2)\n",
      "( 5, 3)\n",
      "( 5, 4)\n",
      "( 5, 6)\n",
      "( 5, 7)\n",
      "( 5, 8)\n",
      "( 5, 9)\n",
      "( 5,10)\n",
      "( 6, 1)\n",
      "( 6, 2)\n",
      "( 6, 3)\n",
      "( 6, 4)\n",
      "( 6, 5)\n",
      "( 6, 7)\n",
      "( 6, 8)\n",
      "( 6, 9)\n",
      "( 6,10)\n",
      "( 7, 1)\n",
      "( 7, 2)\n",
      "( 7, 3)\n",
      "( 7, 4)\n",
      "( 7, 5)\n",
      "( 7, 6)\n",
      "( 7, 8)\n",
      "( 7, 9)\n",
      "( 7,10)\n",
      "( 8, 1)\n",
      "( 8, 2)\n",
      "( 8, 3)\n",
      "( 8, 4)\n",
      "( 8, 5)\n",
      "( 8, 6)\n",
      "( 8, 7)\n",
      "( 8, 9)\n",
      "( 8,10)\n",
      "( 9, 1)\n",
      "( 9, 2)\n",
      "( 9, 3)\n",
      "( 9, 4)\n",
      "( 9, 5)\n",
      "( 9, 6)\n",
      "( 9, 7)\n",
      "( 9, 8)\n",
      "( 9,10)\n",
      "(10, 1)\n",
      "(10, 2)\n",
      "(10, 3)\n",
      "(10, 4)\n",
      "(10, 5)\n",
      "(10, 6)\n",
      "(10, 7)\n",
      "(10, 8)\n",
      "(10, 9)\n",
      "Total combinations is 90.\n"
     ]
    }
   ],
   "source": [
    "# Number of combinations.\n",
    "no_combs = 0\n",
    "\n",
    "# Select the first position.\n",
    "for first in [1, 2, 3, 4, 5, 6, 7, 8, 9, 10]:\n",
    "    # Select the position for the second position.\n",
    "    for second in [1, 2, 3, 4, 5, 6, 7, 8, 9, 10]:\n",
    "        # Make sure the first and second positions are different.\n",
    "        if not first == second:\n",
    "            # Print the combination.\n",
    "            print(f'({first:2},{second:2})')\n",
    "            # Add one to number of combinations.\n",
    "            no_combs = no_combs + 1\n",
    "\n",
    "# Print total number of combinations.\n",
    "print(f'Total combinations is {no_combs}.')"
   ]
  },
  {
   "cell_type": "code",
   "execution_count": 12,
   "id": "686d1337",
   "metadata": {},
   "outputs": [
    {
     "data": {
      "text/plain": [
       "210.0"
      ]
     },
     "execution_count": 12,
     "metadata": {},
     "output_type": "execute_result"
    }
   ],
   "source": [
    " # Four heads as opposed to five\n",
    "(10 * 9 * 8 * 7) / (4 * 3 * 2 * 1)"
   ]
  },
  {
   "cell_type": "code",
   "execution_count": 13,
   "id": "51445447",
   "metadata": {},
   "outputs": [
    {
     "data": {
      "text/plain": [
       "120.0"
      ]
     },
     "execution_count": 13,
     "metadata": {},
     "output_type": "execute_result"
    }
   ],
   "source": [
    " # Three heads as opposed to five\n",
    "(10 * 9 * 8) / (3 * 2 * 1)"
   ]
  },
  {
   "cell_type": "markdown",
   "id": "04f2a4ee",
   "metadata": {},
   "source": [
    "# Exercise 1"
   ]
  },
  {
   "cell_type": "code",
   "execution_count": 14,
   "id": "c26946cb",
   "metadata": {},
   "outputs": [
    {
     "name": "stdout",
     "output_type": "stream",
     "text": [
      "252.0\n"
     ]
    }
   ],
   "source": [
    "### EXERCISE 1 ###\n",
    "# The formula will always return a whole positive number (Hence in the below formula I used / instead of // as it will return the same\n",
    "# result).\n",
    "\n",
    "# Formula\n",
    "# Explanation:\n",
    "\n",
    "# For the top of the line in the division formula:\n",
    "# Each time you get the factorial of the number of coins but only for to the number of possibilities.\n",
    "# If I do 10! It will multiply 10 x 9 x 8 x 7 x 6 x 5 x 4 x 3 x 2 x 1, but we only want it down the number \n",
    "# of possibilities, say down 4 so I only want 10 x 9 x 8 x 7, therefore to counteract the rest of the multiplication\n",
    "# we divide by the number of coins (10) minus the nuber of possibilities (4), (10 - 4 = 6)!\n",
    "# 6! is 6 x 5 x 4 x 3 x 2 x 1 so we have (10 x 9 x 8 x 7 x 6 x 5 x 4 x 3 x 2 x 1) / (6 x 5 x 4 x 3 x 2 x 1),\n",
    "# which esentially cancels out the 6! and gives us 10 x 9 x 8 x 7\n",
    "\n",
    "# For the bottom of the line in the division formula:\n",
    "# This is simply the factorial of the number of possibilities.\n",
    "\n",
    "import math\n",
    "\n",
    "n = 10\n",
    "numheads = 5\n",
    "\n",
    "#prob = (n! / (n-numheads)!)/numheads!\n",
    "prob = (math.factorial(n) / math.factorial(n - numheads)) / math.factorial(numheads)\n",
    "print(prob)"
   ]
  },
  {
   "cell_type": "code",
   "execution_count": 15,
   "id": "351ebb3e",
   "metadata": {},
   "outputs": [
    {
     "data": {
      "text/plain": [
       "1024"
      ]
     },
     "execution_count": 15,
     "metadata": {},
     "output_type": "execute_result"
    }
   ],
   "source": [
    "# There are 2 to the power of 10 possible results in flipping a coin ten times.\n",
    "2**10"
   ]
  },
  {
   "cell_type": "markdown",
   "id": "b3cb3a2e",
   "metadata": {},
   "source": [
    "# Exercise 2"
   ]
  },
  {
   "cell_type": "raw",
   "id": "00897fe9",
   "metadata": {},
   "source": [
    "### EXERCISE 2 ###\n",
    "\n",
    "Note that there are the same number of ways to get 4 tails as there to get 4 heads. Explain why this is.\n",
    "\n",
    "This is because in a fair coin, each coin has 50% probability of getting a tail and 50% probability of getting a head.\n",
    "Therefore, regardless of how many coins you flip there is always the same chance of getting a head or tail and therefore the same chance of getting 4 heads as there is of getting 4 tails.\n",
    "\n",
    "In probability when there are 2 outcomes, assuming each outcome has an equal chance of occurring (a fair coin), each outcome has a 1/2 (or 50%) chance of occuring. If you flip 10 coins, each flip is independant and therefore in each toss there is a 50% (or 1/2) chance of a head occurring as well as a 50% chance of a tail occurring. Therefore ther chances of 4 tails occurring is the same as 4 heads occurring.\n",
    "\n",
    "The combination of getting 4 tails is therfore (10 * 9 * 8 * 7) / (4 * 3 * 2 * 1) = 210 out of a possible 1024 possible outcomes (210/1024 = 0.205 or just over 20.5%), the same as getting 4 heads."
   ]
  },
  {
   "cell_type": "code",
   "execution_count": 16,
   "id": "434ed2c9",
   "metadata": {},
   "outputs": [
    {
     "name": "stdout",
     "output_type": "stream",
     "text": [
      "252\n",
      "1\n"
     ]
    }
   ],
   "source": [
    "import math\n",
    "\n",
    "# Probability of getting five heads when flipping a coin ten times.\n",
    "252 / 1024\n",
    "\n",
    "print(math.comb(10, 5)) # using python function\n",
    "\n",
    "# Probability of getting zero heads when flipping a coin ten times.\n",
    "1 / 1024\n",
    "\n",
    "print(math.comb(10, 0)) # using python function"
   ]
  },
  {
   "cell_type": "code",
   "execution_count": 17,
   "id": "de5cb19f",
   "metadata": {},
   "outputs": [
    {
     "data": {
      "text/plain": [
       "<BarContainer object of 11 artists>"
      ]
     },
     "execution_count": 17,
     "metadata": {},
     "output_type": "execute_result"
    },
    {
     "data": {
      "image/png": "[encoded data removed]",
      "text/plain": [
       "<Figure size 640x480 with 1 Axes>"
      ]
     },
     "metadata": {},
     "output_type": "display_data"
    }
   ],
   "source": [
    "# Plotting.\n",
    "import matplotlib.pyplot as plt\n",
    "\n",
    "# The number of coins we will flip.\n",
    "coins = 10\n",
    "\n",
    "# The number from 0 to 10 inclusive.\n",
    "x = list(range(coins + 1))\n",
    "\n",
    "# The number of ways of selecting i things from 10. \n",
    "y = [math.comb(coins, i) for i in x]\n",
    "\n",
    "# Display x and y as a bar chart.\n",
    "plt.bar(x, y)"
   ]
  },
  {
   "cell_type": "code",
   "execution_count": 18,
   "id": "3a2d023b",
   "metadata": {
    "scrolled": true
   },
   "outputs": [
    {
     "data": {
      "text/plain": [
       "<BarContainer object of 11 artists>"
      ]
     },
     "execution_count": 18,
     "metadata": {},
     "output_type": "execute_result"
    },
    {
     "data": {
      "image/png": "[encoded data removed]",
      "text/plain": [
       "<Figure size 640x480 with 1 Axes>"
      ]
     },
     "metadata": {},
     "output_type": "display_data"
    }
   ],
   "source": [
    "# The number of coins we are to flip.\n",
    "coins = 10\n",
    "\n",
    "# Number of trials to run.\n",
    "trials = 10000\n",
    "\n",
    "# Run the trials.\n",
    "heads = np.random.binomial(coins, 0.5, trials)\n",
    "\n",
    "# Count the unique values in the returned list.\n",
    "vals, counts = np.unique(heads, return_counts=True)\n",
    "\n",
    "# Plot results in a histogram.\n",
    "plt.bar(vals, counts)"
   ]
  },
  {
   "cell_type": "markdown",
   "id": "57ba6e0c",
   "metadata": {},
   "source": [
    "# Distributions"
   ]
  },
  {
   "cell_type": "code",
   "execution_count": 19,
   "id": "35029df3",
   "metadata": {
    "scrolled": true
   },
   "outputs": [
    {
     "data": {
      "text/plain": [
       "<BarContainer object of 2 artists>"
      ]
     },
     "execution_count": 19,
     "metadata": {},
     "output_type": "execute_result"
    },
    {
     "data": {
      "image/png": "[encoded data removed]",
      "text/plain": [
       "<Figure size 640x480 with 1 Axes>"
      ]
     },
     "metadata": {},
     "output_type": "display_data"
    }
   ],
   "source": [
    "# The number of coins we are to flip.\n",
    "coins = 1\n",
    "\n",
    "# Number of trials to run.\n",
    "trials = 10000\n",
    "\n",
    "# Run the trials.\n",
    "heads = np.random.binomial(coins, 0.5, trials)\n",
    "\n",
    "# Count the unique values in the returned list.\n",
    "vals, counts = np.unique(heads, return_counts=True)\n",
    "\n",
    "# Plot results in a histogram.\n",
    "plt.bar(vals, counts) # First bar is centred on 0 and second bar is centred on 1."
   ]
  },
  {
   "cell_type": "raw",
   "id": "be7a9a1f",
   "metadata": {},
   "source": [
    "Uniform Districution means every outcome has the same chance of occurring."
   ]
  },
  {
   "cell_type": "code",
   "execution_count": 20,
   "id": "e8a4400b",
   "metadata": {},
   "outputs": [
    {
     "name": "stdout",
     "output_type": "stream",
     "text": [
      "[0 1 1 0] 6\n"
     ]
    }
   ],
   "source": [
    "# Getting the flips in array (head or tails; 1 or 0) then converting that value into binary\n",
    "\n",
    "# The number of possible outcomes.\n",
    "N = 11\n",
    "\n",
    "# What is the next biggest power of 2? It is 16 (2^4).\n",
    "B = 4\n",
    "\n",
    "# Flip B coins.\n",
    "flips = np.random.binomial(1, 0.5, B)\n",
    "\n",
    "# Convert that to binary.\n",
    "number = 0\n",
    "for i in range(len(flips)):\n",
    "    number = number + flips[i] * 2**i\n",
    "\n",
    "# Print the flips and the decimal number.\n",
    "print(flips, number) # Output is backwards"
   ]
  },
  {
   "cell_type": "code",
   "execution_count": 21,
   "id": "63866492",
   "metadata": {},
   "outputs": [],
   "source": [
    "# Make a function to generate and convert coin flips to integer.\n",
    "def gen_number(B=4):\n",
    "    # Flip B coins.\n",
    "    flips = np.random.binomial(1, 0.5, B)\n",
    "    \n",
    "    # Convert that to binary.\n",
    "    number = 0\n",
    "    for i in range(len(flips)):\n",
    "        number = number + flips[i] * 2**i\n",
    "        \n",
    "    # Return the number.\n",
    "    return number"
   ]
  },
  {
   "cell_type": "code",
   "execution_count": 22,
   "id": "49dba2f9",
   "metadata": {},
   "outputs": [
    {
     "data": {
      "text/plain": [
       "0"
      ]
     },
     "execution_count": 22,
     "metadata": {},
     "output_type": "execute_result"
    }
   ],
   "source": [
    "# Test the function.\n",
    "gen_number()"
   ]
  },
  {
   "cell_type": "code",
   "execution_count": 23,
   "id": "589ff731",
   "metadata": {
    "scrolled": true
   },
   "outputs": [
    {
     "data": {
      "text/plain": [
       "<BarContainer object of 16 artists>"
      ]
     },
     "execution_count": 23,
     "metadata": {},
     "output_type": "execute_result"
    },
    {
     "data": {
      "image/png": "[encoded data removed]",
      "text/plain": [
       "<Figure size 640x480 with 1 Axes>"
      ]
     },
     "metadata": {},
     "output_type": "display_data"
    }
   ],
   "source": [
    "# Run the function several times.\n",
    "# This shows the uniform distribution of flipping 4 coins (possibilities: 0000, 0001, 0010, etc up to 1111)\n",
    "# The possibities of these happing are all equal with a fair coin!\n",
    "# What we did above is treat the above sequences of 0's and 1's as numbers written in binary.\n",
    "# Note, for convenience, the left most bit was the least significant. (reverse of intuition)\n",
    "\n",
    "# Number of outcomes.\n",
    "no_outcomes = 100000\n",
    "\n",
    "# Generate outcomes.\n",
    "outcomes = [gen_number() for i in range(no_outcomes)]\n",
    "\n",
    "# Plot the counts of outcomes.\n",
    "# Count the unique values in the returned list.\n",
    "vals, counts = np.unique(outcomes, return_counts=True)\n",
    "\n",
    "# Plot results in a histogram (technically a bar chart).\n",
    "plt.bar(vals, counts)"
   ]
  },
  {
   "cell_type": "code",
   "execution_count": 24,
   "id": "1d0f9fab",
   "metadata": {
    "scrolled": true
   },
   "outputs": [
    {
     "data": {
      "image/png": "[encoded data removed]",
      "text/plain": [
       "<Figure size 640x480 with 1 Axes>"
      ]
     },
     "metadata": {},
     "output_type": "display_data"
    }
   ],
   "source": [
    "# Generating 10,000 numbers between 0 & 10 inclusive\n",
    "# Run the function several times.\n",
    "\n",
    "# Number of outcomes.\n",
    "no_outcomes = 10000\n",
    "\n",
    "# Generate outcomes.\n",
    "outcomes = []\n",
    "while len(outcomes) < no_outcomes:\n",
    "    next_number = gen_number()\n",
    "    if next_number <= 10:\n",
    "        outcomes.append(next_number)\n",
    "\n",
    "# Plot the counts of outcomes..\n",
    "# Count the unique values in the returned list.\n",
    "vals, counts = np.unique(outcomes, return_counts=True)\n",
    "\n",
    "# Plot results in a histogram (technically a bar chart).\n",
    "plt.bar(vals, counts);"
   ]
  },
  {
   "cell_type": "code",
   "execution_count": 25,
   "id": "b68dbe52",
   "metadata": {
    "scrolled": true
   },
   "outputs": [
    {
     "data": {
      "image/png": "[encoded data removed]",
      "text/plain": [
       "<Figure size 640x480 with 1 Axes>"
      ]
     },
     "metadata": {},
     "output_type": "display_data"
    }
   ],
   "source": [
    "# Generating 10,000 numbers between 1 & 10 inclusive\n",
    "# Run the function several times.\n",
    "\n",
    "# Number of outcomes.\n",
    "no_outcomes = 10000\n",
    "\n",
    "# Generate outcomes.\n",
    "outcomes = []\n",
    "while len(outcomes) < no_outcomes:\n",
    "    next_number = gen_number()\n",
    "    if 1 <= next_number and next_number <= 10:\n",
    "        outcomes.append(next_number)\n",
    "\n",
    "# Plot the counts of outcomes..\n",
    "# Count the unique values in the returned list.\n",
    "vals, counts = np.unique(outcomes, return_counts=True)\n",
    "\n",
    "# Plot results in a histogram (technically a bar chart).\n",
    "plt.bar(vals, counts);"
   ]
  },
  {
   "cell_type": "markdown",
   "id": "c635fb62",
   "metadata": {},
   "source": [
    "## Random Distributions in numpy"
   ]
  },
  {
   "cell_type": "code",
   "execution_count": 26,
   "id": "43d027de",
   "metadata": {},
   "outputs": [
    {
     "data": {
      "text/plain": [
       "array([ 1.52150078, -1.15500013,  1.23067026,  0.33671391,  0.9334413 ,\n",
       "        1.80543282, -0.68730102,  1.02289163,  0.153831  ,  0.57317554])"
      ]
     },
     "execution_count": 26,
     "metadata": {},
     "output_type": "execute_result"
    }
   ],
   "source": [
    "# https://numpy.org/doc/stable/reference/random/index.html\n",
    "\n",
    "# Create a new instance of a random number generator.\n",
    "rng = np.random.default_rng()\n",
    "\n",
    "vals = rng.standard_normal(10)\n",
    "vals"
   ]
  },
  {
   "cell_type": "code",
   "execution_count": 27,
   "id": "a427bda8",
   "metadata": {},
   "outputs": [
    {
     "data": {
      "text/plain": [
       "array([ 0.15936492, -0.69093992,  0.38067989, -0.86937134,  0.98919166,\n",
       "        0.83147619,  0.04407655,  1.59485674, -1.77851703, -0.11110531])"
      ]
     },
     "execution_count": 27,
     "metadata": {},
     "output_type": "execute_result"
    }
   ],
   "source": [
    "np.random.standard_normal(10)"
   ]
  },
  {
   "cell_type": "raw",
   "id": "42296dfc",
   "metadata": {},
   "source": [
    "rng = np.random.default_rng(0) is very comoonly used in dta analytics (especially testing)"
   ]
  },
  {
   "cell_type": "code",
   "execution_count": 29,
   "id": "411200da",
   "metadata": {},
   "outputs": [
    {
     "data": {
      "text/plain": [
       "array([-1.42382504,  1.26372846, -0.87066174, -0.25917323, -0.07534331,\n",
       "       -0.74088465, -1.3677927 ,  0.6488928 ,  0.36105811, -1.95286306])"
      ]
     },
     "execution_count": 29,
     "metadata": {},
     "output_type": "execute_result"
    }
   ],
   "source": [
    "rng = np.random.default_rng(12345) # Give it a seed so that you will get the same output every time. Common seed = 0\n",
    "vals = rng.standard_normal(10) # Now get 10 random numbers\n",
    "vals"
   ]
  },
  {
   "cell_type": "markdown",
   "id": "1e8e6eaa",
   "metadata": {},
   "source": [
    "### Standard Normal"
   ]
  },
  {
   "cell_type": "code",
   "execution_count": 33,
   "id": "6ddaa496",
   "metadata": {},
   "outputs": [
    {
     "data": {
      "text/plain": [
       "(array([  1.,   1.,   0.,   0.,   0.,   0.,   1.,   2.,   2.,   2.,   3.,\n",
       "          0.,   6.,   6.,  10.,   7.,   6.,  12.,  21.,   8.,  15.,  20.,\n",
       "         21.,  26.,  33.,  36.,  44.,  56.,  49.,  51.,  74.,  93.,  84.,\n",
       "         97., 103., 148., 144., 147., 182., 187., 189., 200., 233., 241.,\n",
       "        244., 266., 278., 233., 292., 316., 298., 296., 283., 249., 270.,\n",
       "        290., 273., 279., 254., 260., 265., 254., 225., 231., 204., 194.,\n",
       "        194., 179., 131., 153., 138., 112., 100.,  82.,  91.,  65.,  57.,\n",
       "         62.,  52.,  53.,  30.,  30.,  26.,  25.,  24.,  21.,  12.,  10.,\n",
       "          8.,  10.,   1.,   7.,   0.,   4.,   3.,   3.,   1.,   0.,   0.,\n",
       "          1.]),\n",
       " array([-3.89942173, -3.82560914, -3.75179655, -3.67798396, -3.60417137,\n",
       "        -3.53035878, -3.45654619, -3.3827336 , -3.30892101, -3.23510842,\n",
       "        -3.16129583, -3.08748324, -3.01367065, -2.93985806, -2.86604547,\n",
       "        -2.79223288, -2.7184203 , -2.64460771, -2.57079512, -2.49698253,\n",
       "        -2.42316994, -2.34935735, -2.27554476, -2.20173217, -2.12791958,\n",
       "        -2.05410699, -1.9802944 , -1.90648181, -1.83266922, -1.75885663,\n",
       "        -1.68504404, -1.61123145, -1.53741886, -1.46360627, -1.38979368,\n",
       "        -1.31598109, -1.2421685 , -1.16835591, -1.09454332, -1.02073073,\n",
       "        -0.94691814, -0.87310555, -0.79929296, -0.72548037, -0.65166778,\n",
       "        -0.57785519, -0.5040426 , -0.43023002, -0.35641743, -0.28260484,\n",
       "        -0.20879225, -0.13497966, -0.06116707,  0.01264552,  0.08645811,\n",
       "         0.1602707 ,  0.23408329,  0.30789588,  0.38170847,  0.45552106,\n",
       "         0.52933365,  0.60314624,  0.67695883,  0.75077142,  0.82458401,\n",
       "         0.8983966 ,  0.97220919,  1.04602178,  1.11983437,  1.19364696,\n",
       "         1.26745955,  1.34127214,  1.41508473,  1.48889732,  1.56270991,\n",
       "         1.6365225 ,  1.71033509,  1.78414768,  1.85796026,  1.93177285,\n",
       "         2.00558544,  2.07939803,  2.15321062,  2.22702321,  2.3008358 ,\n",
       "         2.37464839,  2.44846098,  2.52227357,  2.59608616,  2.66989875,\n",
       "         2.74371134,  2.81752393,  2.89133652,  2.96514911,  3.0389617 ,\n",
       "         3.11277429,  3.18658688,  3.26039947,  3.33421206,  3.40802465,\n",
       "         3.48183724]),\n",
       " <BarContainer object of 100 artists>)"
      ]
     },
     "execution_count": 33,
     "metadata": {},
     "output_type": "execute_result"
    },
    {
     "data": {
      "image/png": "[encoded data removed]",
      "text/plain": [
       "<Figure size 640x480 with 1 Axes>"
      ]
     },
     "metadata": {},
     "output_type": "display_data"
    }
   ],
   "source": [
    "# Create new, seeded random number generator.\n",
    "rng = np.random.default_rng(0)\n",
    "\n",
    "# Generate 1000 numbers on a standard normal distribution.\n",
    "samples = rng.standard_normal(10000)\n",
    "\n",
    "# Create a figure.\n",
    "fig, ax = plt.subplots()\n",
    "\n",
    "# Create histogram.\n",
    "ax.hist(samples, bins=100)"
   ]
  },
  {
   "cell_type": "markdown",
   "id": "efaf7696",
   "metadata": {},
   "source": [
    "# Exercise"
   ]
  },
  {
   "cell_type": "code",
   "execution_count": 50,
   "id": "b861a7d4",
   "metadata": {},
   "outputs": [
    {
     "data": {
      "text/plain": [
       "(array([301., 427., 545., 581., 573., 604., 529., 547., 512., 416., 439.,\n",
       "        384., 362., 341., 287., 294., 271., 252., 236., 209., 185., 165.,\n",
       "        150., 146., 120., 113., 108.,  97.,  79.,  74.,  67.,  62.,  58.,\n",
       "         51.,  29.,  36.,  43.,  37.,  21.,  24.,  28.,  23.,  14.,  14.,\n",
       "         17.,   5.,  14.,  11.,  13.,   6.,  10.,  11.,   8.,   8.,   7.,\n",
       "          2.,   5.,   1.,   5.,   0.,   2.,   1.,   3.,   3.,   2.,   1.,\n",
       "          0.,   2.,   1.,   1.,   0.,   0.,   2.,   1.,   0.,   1.,   0.,\n",
       "          0.,   0.,   0.,   0.,   0.,   0.,   0.,   0.,   0.,   2.,   0.,\n",
       "          0.,   0.,   0.,   0.,   0.,   0.,   0.,   0.,   0.,   0.,   0.,\n",
       "          1.]),\n",
       " array([9.64772681e-03, 2.51184347e-01, 4.92720967e-01, 7.34257587e-01,\n",
       "        9.75794207e-01, 1.21733083e+00, 1.45886745e+00, 1.70040407e+00,\n",
       "        1.94194069e+00, 2.18347731e+00, 2.42501393e+00, 2.66655055e+00,\n",
       "        2.90808717e+00, 3.14962379e+00, 3.39116041e+00, 3.63269703e+00,\n",
       "        3.87423365e+00, 4.11577027e+00, 4.35730689e+00, 4.59884351e+00,\n",
       "        4.84038013e+00, 5.08191675e+00, 5.32345337e+00, 5.56498999e+00,\n",
       "        5.80652661e+00, 6.04806323e+00, 6.28959985e+00, 6.53113647e+00,\n",
       "        6.77267309e+00, 7.01420971e+00, 7.25574633e+00, 7.49728295e+00,\n",
       "        7.73881957e+00, 7.98035619e+00, 8.22189281e+00, 8.46342943e+00,\n",
       "        8.70496605e+00, 8.94650266e+00, 9.18803928e+00, 9.42957590e+00,\n",
       "        9.67111252e+00, 9.91264914e+00, 1.01541858e+01, 1.03957224e+01,\n",
       "        1.06372590e+01, 1.08787956e+01, 1.11203322e+01, 1.13618689e+01,\n",
       "        1.16034055e+01, 1.18449421e+01, 1.20864787e+01, 1.23280153e+01,\n",
       "        1.25695520e+01, 1.28110886e+01, 1.30526252e+01, 1.32941618e+01,\n",
       "        1.35356984e+01, 1.37772351e+01, 1.40187717e+01, 1.42603083e+01,\n",
       "        1.45018449e+01, 1.47433815e+01, 1.49849182e+01, 1.52264548e+01,\n",
       "        1.54679914e+01, 1.57095280e+01, 1.59510646e+01, 1.61926013e+01,\n",
       "        1.64341379e+01, 1.66756745e+01, 1.69172111e+01, 1.71587477e+01,\n",
       "        1.74002844e+01, 1.76418210e+01, 1.78833576e+01, 1.81248942e+01,\n",
       "        1.83664308e+01, 1.86079675e+01, 1.88495041e+01, 1.90910407e+01,\n",
       "        1.93325773e+01, 1.95741139e+01, 1.98156506e+01, 2.00571872e+01,\n",
       "        2.02987238e+01, 2.05402604e+01, 2.07817970e+01, 2.10233337e+01,\n",
       "        2.12648703e+01, 2.15064069e+01, 2.17479435e+01, 2.19894801e+01,\n",
       "        2.22310168e+01, 2.24725534e+01, 2.27140900e+01, 2.29556266e+01,\n",
       "        2.31971632e+01, 2.34386999e+01, 2.36802365e+01, 2.39217731e+01,\n",
       "        2.41633097e+01]),\n",
       " <BarContainer object of 100 artists>)"
      ]
     },
     "execution_count": 50,
     "metadata": {},
     "output_type": "execute_result"
    },
    {
     "data": {
      "image/png": "[encoded data removed]",
      "text/plain": [
       "<Figure size 640x480 with 1 Axes>"
      ]
     },
     "metadata": {},
     "output_type": "display_data"
    }
   ],
   "source": [
    "### Exercise  Plot 1 - chisquare ###\n",
    "# Plot bar charts or histograms of any three different distributions listed for Random Generator in numpy\n",
    "\n",
    "\n",
    "# Create new, seeded random number generator.\n",
    "rng = np.random.default_rng(0)\n",
    "\n",
    "# Generate 1000 numbers on a chisquare distribution.\n",
    "samples = rng.chisquare(3, 10000)\n",
    "\n",
    "# Create a figure.\n",
    "fig, ax = plt.subplots()\n",
    "\n",
    "# Create histogram.\n",
    "ax.hist(samples, bins=100)"
   ]
  },
  {
   "cell_type": "code",
   "execution_count": 51,
   "id": "a35b33c1",
   "metadata": {},
   "outputs": [
    {
     "data": {
      "text/plain": [
       "(array([773., 792., 771., 671., 600., 538., 499., 444., 378., 386., 338.,\n",
       "        335., 291., 295., 258., 202., 214., 170., 143., 156., 162., 128.,\n",
       "        119., 116.,  90.,  93.,  96.,  75.,  72.,  73.,  59.,  50.,  46.,\n",
       "         43.,  45.,  39.,  35.,  38.,  31.,  34.,  28.,  25.,  20.,  17.,\n",
       "         14.,  10.,  20.,  18.,  16.,   9.,   9.,  12.,  11.,   8.,   5.,\n",
       "         11.,   5.,   6.,   4.,   2.,   1.,   1.,   6.,   2.,   4.,   3.,\n",
       "          1.,   4.,   2.,   3.,   2.,   1.,   3.,   3.,   2.,   2.,   1.,\n",
       "          1.,   1.,   2.,   0.,   2.,   0.,   0.,   0.,   0.,   0.,   1.,\n",
       "          0.,   0.,   0.,   0.,   0.,   2.,   0.,   0.,   0.,   0.,   1.,\n",
       "          1.]),\n",
       " array([3.49822453e-04, 2.18433568e-01, 4.36517314e-01, 6.54601059e-01,\n",
       "        8.72684805e-01, 1.09076855e+00, 1.30885230e+00, 1.52693604e+00,\n",
       "        1.74501979e+00, 1.96310353e+00, 2.18118728e+00, 2.39927102e+00,\n",
       "        2.61735477e+00, 2.83543852e+00, 3.05352226e+00, 3.27160601e+00,\n",
       "        3.48968975e+00, 3.70777350e+00, 3.92585724e+00, 4.14394099e+00,\n",
       "        4.36202474e+00, 4.58010848e+00, 4.79819223e+00, 5.01627597e+00,\n",
       "        5.23435972e+00, 5.45244346e+00, 5.67052721e+00, 5.88861096e+00,\n",
       "        6.10669470e+00, 6.32477845e+00, 6.54286219e+00, 6.76094594e+00,\n",
       "        6.97902968e+00, 7.19711343e+00, 7.41519717e+00, 7.63328092e+00,\n",
       "        7.85136467e+00, 8.06944841e+00, 8.28753216e+00, 8.50561590e+00,\n",
       "        8.72369965e+00, 8.94178339e+00, 9.15986714e+00, 9.37795089e+00,\n",
       "        9.59603463e+00, 9.81411838e+00, 1.00322021e+01, 1.02502859e+01,\n",
       "        1.04683696e+01, 1.06864534e+01, 1.09045371e+01, 1.11226209e+01,\n",
       "        1.13407046e+01, 1.15587883e+01, 1.17768721e+01, 1.19949558e+01,\n",
       "        1.22130396e+01, 1.24311233e+01, 1.26492071e+01, 1.28672908e+01,\n",
       "        1.30853746e+01, 1.33034583e+01, 1.35215421e+01, 1.37396258e+01,\n",
       "        1.39577095e+01, 1.41757933e+01, 1.43938770e+01, 1.46119608e+01,\n",
       "        1.48300445e+01, 1.50481283e+01, 1.52662120e+01, 1.54842958e+01,\n",
       "        1.57023795e+01, 1.59204633e+01, 1.61385470e+01, 1.63566307e+01,\n",
       "        1.65747145e+01, 1.67927982e+01, 1.70108820e+01, 1.72289657e+01,\n",
       "        1.74470495e+01, 1.76651332e+01, 1.78832170e+01, 1.81013007e+01,\n",
       "        1.83193845e+01, 1.85374682e+01, 1.87555519e+01, 1.89736357e+01,\n",
       "        1.91917194e+01, 1.94098032e+01, 1.96278869e+01, 1.98459707e+01,\n",
       "        2.00640544e+01, 2.02821382e+01, 2.05002219e+01, 2.07183057e+01,\n",
       "        2.09363894e+01, 2.11544732e+01, 2.13725569e+01, 2.15906406e+01,\n",
       "        2.18087244e+01]),\n",
       " <BarContainer object of 100 artists>)"
      ]
     },
     "execution_count": 51,
     "metadata": {},
     "output_type": "execute_result"
    },
    {
     "data": {
      "image/png": "[encoded data removed]",
      "text/plain": [
       "<Figure size 640x480 with 1 Axes>"
      ]
     },
     "metadata": {},
     "output_type": "display_data"
    }
   ],
   "source": [
    "### Exercise  Plot 2 - exponential ###\n",
    "# Plot bar charts or histograms of any three different distributions listed for Random Generator in numpy\n",
    "\n",
    "\n",
    "# Create new, seeded random number generator.\n",
    "rng = np.random.default_rng(0)\n",
    "\n",
    "# Generate 1000 numbers on an exponential distribution.\n",
    "samples = rng.exponential(2.5, 10000)\n",
    "\n",
    "# Create a figure.\n",
    "fig, ax = plt.subplots()\n",
    "\n",
    "# Create histogram.\n",
    "ax.hist(samples, bins=100)"
   ]
  },
  {
   "cell_type": "code",
   "execution_count": 48,
   "id": "91904962",
   "metadata": {},
   "outputs": [
    {
     "data": {
      "text/plain": [
       "(array([1.224e+03, 1.166e+03, 9.660e+02, 8.320e+02, 7.040e+02, 5.770e+02,\n",
       "        5.410e+02, 4.700e+02, 4.150e+02, 3.870e+02, 2.980e+02, 2.700e+02,\n",
       "        2.140e+02, 2.010e+02, 1.980e+02, 1.670e+02, 1.430e+02, 1.130e+02,\n",
       "        1.280e+02, 9.800e+01, 8.700e+01, 9.300e+01, 6.500e+01, 5.500e+01,\n",
       "        5.500e+01, 4.900e+01, 4.500e+01, 4.200e+01, 4.200e+01, 4.100e+01,\n",
       "        2.900e+01, 3.300e+01, 1.700e+01, 2.300e+01, 1.400e+01, 1.300e+01,\n",
       "        1.700e+01, 2.400e+01, 1.500e+01, 5.000e+00, 1.200e+01, 1.200e+01,\n",
       "        1.100e+01, 7.000e+00, 7.000e+00, 8.000e+00, 4.000e+00, 5.000e+00,\n",
       "        5.000e+00, 1.000e+00, 1.000e+00, 1.000e+00, 6.000e+00, 2.000e+00,\n",
       "        3.000e+00, 2.000e+00, 3.000e+00, 3.000e+00, 1.000e+00, 2.000e+00,\n",
       "        3.000e+00, 2.000e+00, 1.000e+00, 1.000e+00, 2.000e+00, 4.000e+00,\n",
       "        1.000e+00, 2.000e+00, 1.000e+00, 1.000e+00, 1.000e+00, 0.000e+00,\n",
       "        2.000e+00, 0.000e+00, 1.000e+00, 1.000e+00, 0.000e+00, 0.000e+00,\n",
       "        0.000e+00, 0.000e+00, 0.000e+00, 0.000e+00, 1.000e+00, 0.000e+00,\n",
       "        0.000e+00, 0.000e+00, 0.000e+00, 0.000e+00, 0.000e+00, 0.000e+00,\n",
       "        2.000e+00, 0.000e+00, 0.000e+00, 0.000e+00, 0.000e+00, 0.000e+00,\n",
       "        0.000e+00, 1.000e+00, 0.000e+00, 1.000e+00]),\n",
       " array([1.33266584e-05, 1.29649309e-02, 2.59165351e-02, 3.88681393e-02,\n",
       "        5.18197435e-02, 6.47713478e-02, 7.77229520e-02, 9.06745562e-02,\n",
       "        1.03626160e-01, 1.16577765e-01, 1.29529369e-01, 1.42480973e-01,\n",
       "        1.55432577e-01, 1.68384182e-01, 1.81335786e-01, 1.94287390e-01,\n",
       "        2.07238994e-01, 2.20190598e-01, 2.33142203e-01, 2.46093807e-01,\n",
       "        2.59045411e-01, 2.71997015e-01, 2.84948619e-01, 2.97900224e-01,\n",
       "        3.10851828e-01, 3.23803432e-01, 3.36755036e-01, 3.49706641e-01,\n",
       "        3.62658245e-01, 3.75609849e-01, 3.88561453e-01, 4.01513057e-01,\n",
       "        4.14464662e-01, 4.27416266e-01, 4.40367870e-01, 4.53319474e-01,\n",
       "        4.66271079e-01, 4.79222683e-01, 4.92174287e-01, 5.05125891e-01,\n",
       "        5.18077495e-01, 5.31029100e-01, 5.43980704e-01, 5.56932308e-01,\n",
       "        5.69883912e-01, 5.82835517e-01, 5.95787121e-01, 6.08738725e-01,\n",
       "        6.21690329e-01, 6.34641933e-01, 6.47593538e-01, 6.60545142e-01,\n",
       "        6.73496746e-01, 6.86448350e-01, 6.99399955e-01, 7.12351559e-01,\n",
       "        7.25303163e-01, 7.38254767e-01, 7.51206371e-01, 7.64157976e-01,\n",
       "        7.77109580e-01, 7.90061184e-01, 8.03012788e-01, 8.15964392e-01,\n",
       "        8.28915997e-01, 8.41867601e-01, 8.54819205e-01, 8.67770809e-01,\n",
       "        8.80722414e-01, 8.93674018e-01, 9.06625622e-01, 9.19577226e-01,\n",
       "        9.32528830e-01, 9.45480435e-01, 9.58432039e-01, 9.71383643e-01,\n",
       "        9.84335247e-01, 9.97286852e-01, 1.01023846e+00, 1.02319006e+00,\n",
       "        1.03614166e+00, 1.04909327e+00, 1.06204487e+00, 1.07499648e+00,\n",
       "        1.08794808e+00, 1.10089969e+00, 1.11385129e+00, 1.12680289e+00,\n",
       "        1.13975450e+00, 1.15270610e+00, 1.16565771e+00, 1.17860931e+00,\n",
       "        1.19156091e+00, 1.20451252e+00, 1.21746412e+00, 1.23041573e+00,\n",
       "        1.24336733e+00, 1.25631894e+00, 1.26927054e+00, 1.28222214e+00,\n",
       "        1.29517375e+00]),\n",
       " <BarContainer object of 100 artists>)"
      ]
     },
     "execution_count": 48,
     "metadata": {},
     "output_type": "execute_result"
    },
    {
     "data": {
      "image/png": "[encoded data removed]",
      "text/plain": [
       "<Figure size 640x480 with 1 Axes>"
      ]
     },
     "metadata": {},
     "output_type": "display_data"
    }
   ],
   "source": [
    "### Exercise  Plot 3 - Pareto ###\n",
    "# Plot bar charts or histograms of any three different distributions listed for Random Generator in numpy\n",
    "\n",
    "\n",
    "# Create new, seeded random number generator.\n",
    "rng = np.random.default_rng(0)\n",
    "\n",
    "# Generate 1000 numbers on a pareto distribution.\n",
    "samples = rng.pareto(10.5, 10000)\n",
    "\n",
    "# Create a figure.\n",
    "fig, ax = plt.subplots()\n",
    "\n",
    "# Create histogram.\n",
    "ax.hist(samples, bins=100)"
   ]
  },
  {
   "cell_type": "code",
   "execution_count": 57,
   "id": "7ec5db19",
   "metadata": {
    "scrolled": true
   },
   "outputs": [
    {
     "data": {
      "text/plain": [
       "(array([  1.,   0.,   0.,   0.,   1.,   0.,   2.,   0.,   0.,   2.,   1.,\n",
       "          1.,   2.,   0.,   1.,   0.,   2.,   1.,   2.,   2.,   2.,   1.,\n",
       "          6.,   1.,   4.,   3.,   3.,   4.,   5.,   0.,   2.,   5.,  10.,\n",
       "         12.,  12.,   4.,   7.,   7.,   5.,  15.,   9.,   8.,  12.,  16.,\n",
       "         15.,  15.,  22.,  18.,  13.,  24.,  20.,  37.,  28.,  25.,  36.,\n",
       "         25.,  38.,  44.,  43.,  47.,  41.,  59.,  50.,  57.,  83.,  86.,\n",
       "         99.,  68.,  84.,  96., 113., 111., 135., 151., 135., 155., 166.,\n",
       "        170., 207., 163., 213., 186., 241., 256., 246., 257., 272., 299.,\n",
       "        302., 307., 345., 379., 408., 416., 458., 454., 465., 507., 549.,\n",
       "        590.]),\n",
       " array([0.42947777, 0.43518284, 0.44088791, 0.44659298, 0.45229804,\n",
       "        0.45800311, 0.46370818, 0.46941325, 0.47511831, 0.48082338,\n",
       "        0.48652845, 0.49223351, 0.49793858, 0.50364365, 0.50934872,\n",
       "        0.51505378, 0.52075885, 0.52646392, 0.53216899, 0.53787405,\n",
       "        0.54357912, 0.54928419, 0.55498925, 0.56069432, 0.56639939,\n",
       "        0.57210446, 0.57780952, 0.58351459, 0.58921966, 0.59492473,\n",
       "        0.60062979, 0.60633486, 0.61203993, 0.61774499, 0.62345006,\n",
       "        0.62915513, 0.6348602 , 0.64056526, 0.64627033, 0.6519754 ,\n",
       "        0.65768047, 0.66338553, 0.6690906 , 0.67479567, 0.68050073,\n",
       "        0.6862058 , 0.69191087, 0.69761594, 0.703321  , 0.70902607,\n",
       "        0.71473114, 0.72043621, 0.72614127, 0.73184634, 0.73755141,\n",
       "        0.74325647, 0.74896154, 0.75466661, 0.76037168, 0.76607674,\n",
       "        0.77178181, 0.77748688, 0.78319195, 0.78889701, 0.79460208,\n",
       "        0.80030715, 0.80601221, 0.81171728, 0.81742235, 0.82312742,\n",
       "        0.82883248, 0.83453755, 0.84024262, 0.84594769, 0.85165275,\n",
       "        0.85735782, 0.86306289, 0.86876795, 0.87447302, 0.88017809,\n",
       "        0.88588316, 0.89158822, 0.89729329, 0.90299836, 0.90870343,\n",
       "        0.91440849, 0.92011356, 0.92581863, 0.93152369, 0.93722876,\n",
       "        0.94293383, 0.9486389 , 0.95434396, 0.96004903, 0.9657541 ,\n",
       "        0.97145917, 0.97716423, 0.9828693 , 0.98857437, 0.99427943,\n",
       "        0.9999845 ]),\n",
       " <BarContainer object of 100 artists>)"
      ]
     },
     "execution_count": 57,
     "metadata": {},
     "output_type": "execute_result"
    },
    {
     "data": {
      "image/png": "[encoded data removed]",
      "text/plain": [
       "<Figure size 640x480 with 1 Axes>"
      ]
     },
     "metadata": {},
     "output_type": "display_data"
    }
   ],
   "source": [
    "### Exercise  Plot 4 - Power (because I was curious) ###\n",
    "# Plot bar charts or histograms of any three different distributions listed for Random Generator in numpy\n",
    "\n",
    "\n",
    "# Create new, seeded random number generator.\n",
    "rng = np.random.default_rng(0)\n",
    "\n",
    "# Generate 1000 numbers on a power distribution.\n",
    "samples = rng.power(10.5, 10000)\n",
    "\n",
    "# Create a figure.\n",
    "fig, ax = plt.subplots()\n",
    "\n",
    "# Create histogram.\n",
    "ax.hist(samples, bins=100)"
   ]
  },
  {
   "cell_type": "code",
   "execution_count": 58,
   "id": "7ee89b57",
   "metadata": {
    "scrolled": true
   },
   "outputs": [
    {
     "data": {
      "text/plain": [
       "(array([ 10.,   3.,   8.,   9.,  18.,  18.,  16.,  25.,  35.,  31.,  37.,\n",
       "         39.,  34.,  56.,  38.,  53.,  55.,  66.,  57.,  59.,  65.,  76.,\n",
       "         94.,  77.,  64.,  77.,  83.,  87., 103.,  92.,  95., 102., 106.,\n",
       "        102., 116., 103.,  96., 118., 113., 131., 120., 123., 117., 141.,\n",
       "        140., 145., 133., 159., 141., 157., 173., 148., 177., 168., 164.,\n",
       "        167., 136., 183., 186., 196., 204., 203., 163., 166., 222., 201.,\n",
       "        186., 205., 166., 143., 150., 179., 134., 150., 171., 143., 131.,\n",
       "        135., 118., 105., 100.,  98., 102.,  91.,  74.,  69.,  75.,  65.,\n",
       "         65.,  68.,  50.,  49.,  37.,  29.,  32.,  25.,  26.,  12.,  12.,\n",
       "          5.]),\n",
       " array([ 1.11665701,  1.25533999,  1.39402298,  1.53270597,  1.67138896,\n",
       "         1.81007194,  1.94875493,  2.08743792,  2.2261209 ,  2.36480389,\n",
       "         2.50348688,  2.64216987,  2.78085285,  2.91953584,  3.05821883,\n",
       "         3.19690182,  3.3355848 ,  3.47426779,  3.61295078,  3.75163377,\n",
       "         3.89031675,  4.02899974,  4.16768273,  4.30636572,  4.4450487 ,\n",
       "         4.58373169,  4.72241468,  4.86109767,  4.99978065,  5.13846364,\n",
       "         5.27714663,  5.41582962,  5.5545126 ,  5.69319559,  5.83187858,\n",
       "         5.97056157,  6.10924455,  6.24792754,  6.38661053,  6.52529352,\n",
       "         6.6639765 ,  6.80265949,  6.94134248,  7.08002546,  7.21870845,\n",
       "         7.35739144,  7.49607443,  7.63475741,  7.7734404 ,  7.91212339,\n",
       "         8.05080638,  8.18948936,  8.32817235,  8.46685534,  8.60553833,\n",
       "         8.74422131,  8.8829043 ,  9.02158729,  9.16027028,  9.29895326,\n",
       "         9.43763625,  9.57631924,  9.71500223,  9.85368521,  9.9923682 ,\n",
       "        10.13105119, 10.26973418, 10.40841716, 10.54710015, 10.68578314,\n",
       "        10.82446613, 10.96314911, 11.1018321 , 11.24051509, 11.37919808,\n",
       "        11.51788106, 11.65656405, 11.79524704, 11.93393002, 12.07261301,\n",
       "        12.211296  , 12.34997899, 12.48866197, 12.62734496, 12.76602795,\n",
       "        12.90471094, 13.04339392, 13.18207691, 13.3207599 , 13.45944289,\n",
       "        13.59812587, 13.73680886, 13.87549185, 14.01417484, 14.15285782,\n",
       "        14.29154081, 14.4302238 , 14.56890679, 14.70758977, 14.84627276,\n",
       "        14.98495575]),\n",
       " <BarContainer object of 100 artists>)"
      ]
     },
     "execution_count": 58,
     "metadata": {},
     "output_type": "execute_result"
    },
    {
     "data": {
      "image/png": "[encoded data removed]",
      "text/plain": [
       "<Figure size 640x480 with 1 Axes>"
      ]
     },
     "metadata": {},
     "output_type": "display_data"
    }
   ],
   "source": [
    "### Exercise  Plot 5 - Triangular (because I was curious) ###\n",
    "# Plot bar charts or histograms of any three different distributions listed for Random Generator in numpy\n",
    "\n",
    "\n",
    "# Create new, seeded random number generator.\n",
    "rng = np.random.default_rng(0)\n",
    "\n",
    "# Generate 1000 numbers on a triangular distribution.\n",
    "samples = rng.triangular(1, 10, 15, 10000)\n",
    "\n",
    "# Create a figure.\n",
    "fig, ax = plt.subplots()\n",
    "\n",
    "# Create histogram.\n",
    "ax.hist(samples, bins=100)"
   ]
  },
  {
   "cell_type": "code",
   "execution_count": 60,
   "id": "5e0fd4c2",
   "metadata": {},
   "outputs": [
    {
     "data": {
      "text/plain": [
       "(array([650., 627., 629., 559., 512., 511., 467., 414., 411., 361., 353.,\n",
       "        328., 298., 284., 276., 258., 232., 228., 178., 189., 149., 154.,\n",
       "        118., 143., 134., 120., 115., 100.,  99.,  79.,  73.,  72.,  64.,\n",
       "         71.,  60.,  67.,  57.,  57.,  53.,  38.,  37.,  33.,  47.,  14.,\n",
       "         26.,  25.,  19.,  22.,  17.,  22.,  16.,   8.,  10.,   8.,  12.,\n",
       "          8.,  13.,   5.,   5.,   5.,   7.,   3.,   4.,   5.,   6.,   8.,\n",
       "          7.,   1.,   1.,   2.,   0.,   3.,   1.,   0.,   2.,   0.,   1.,\n",
       "          1.,   2.,   1.,   0.,   1.,   0.,   0.,   0.,   0.,   0.,   0.,\n",
       "          0.,   0.,   1.,   1.,   0.,   0.,   0.,   0.,   0.,   1.,   0.,\n",
       "          1.]),\n",
       " array([1.14924871e-05, 6.88222759e-03, 1.37529627e-02, 2.06236978e-02,\n",
       "        2.74944329e-02, 3.43651680e-02, 4.12359031e-02, 4.81066382e-02,\n",
       "        5.49773733e-02, 6.18481084e-02, 6.87188435e-02, 7.55895786e-02,\n",
       "        8.24603137e-02, 8.93310488e-02, 9.62017839e-02, 1.03072519e-01,\n",
       "        1.09943254e-01, 1.16813989e-01, 1.23684724e-01, 1.30555459e-01,\n",
       "        1.37426195e-01, 1.44296930e-01, 1.51167665e-01, 1.58038400e-01,\n",
       "        1.64909135e-01, 1.71779870e-01, 1.78650605e-01, 1.85521340e-01,\n",
       "        1.92392075e-01, 1.99262810e-01, 2.06133546e-01, 2.13004281e-01,\n",
       "        2.19875016e-01, 2.26745751e-01, 2.33616486e-01, 2.40487221e-01,\n",
       "        2.47357956e-01, 2.54228691e-01, 2.61099426e-01, 2.67970161e-01,\n",
       "        2.74840897e-01, 2.81711632e-01, 2.88582367e-01, 2.95453102e-01,\n",
       "        3.02323837e-01, 3.09194572e-01, 3.16065307e-01, 3.22936042e-01,\n",
       "        3.29806777e-01, 3.36677512e-01, 3.43548248e-01, 3.50418983e-01,\n",
       "        3.57289718e-01, 3.64160453e-01, 3.71031188e-01, 3.77901923e-01,\n",
       "        3.84772658e-01, 3.91643393e-01, 3.98514128e-01, 4.05384863e-01,\n",
       "        4.12255599e-01, 4.19126334e-01, 4.25997069e-01, 4.32867804e-01,\n",
       "        4.39738539e-01, 4.46609274e-01, 4.53480009e-01, 4.60350744e-01,\n",
       "        4.67221479e-01, 4.74092214e-01, 4.80962950e-01, 4.87833685e-01,\n",
       "        4.94704420e-01, 5.01575155e-01, 5.08445890e-01, 5.15316625e-01,\n",
       "        5.22187360e-01, 5.29058095e-01, 5.35928830e-01, 5.42799565e-01,\n",
       "        5.49670301e-01, 5.56541036e-01, 5.63411771e-01, 5.70282506e-01,\n",
       "        5.77153241e-01, 5.84023976e-01, 5.90894711e-01, 5.97765446e-01,\n",
       "        6.04636181e-01, 6.11506916e-01, 6.18377652e-01, 6.25248387e-01,\n",
       "        6.32119122e-01, 6.38989857e-01, 6.45860592e-01, 6.52731327e-01,\n",
       "        6.59602062e-01, 6.66472797e-01, 6.73343532e-01, 6.80214267e-01,\n",
       "        6.87085003e-01]),\n",
       " <BarContainer object of 100 artists>)"
      ]
     },
     "execution_count": 60,
     "metadata": {},
     "output_type": "execute_result"
    },
    {
     "data": {
      "image/png": "[encoded data removed]",
      "text/plain": [
       "<Figure size 640x480 with 1 Axes>"
      ]
     },
     "metadata": {},
     "output_type": "display_data"
    }
   ],
   "source": [
    "### Exercise  Plot 6 - Beta (because I was curious) ###\n",
    "# Plot bar charts or histograms of any three different distributions listed for Random Generator in numpy\n",
    "\n",
    "\n",
    "# Create new, seeded random number generator.\n",
    "rng = np.random.default_rng(0)\n",
    "\n",
    "# Generate 1000 numbers on a beta distribution.\n",
    "samples = rng.beta(1, 10, 10000)\n",
    "\n",
    "# Create a figure.\n",
    "fig, ax = plt.subplots()\n",
    "\n",
    "# Create histogram.\n",
    "ax.hist(samples, bins=100)"
   ]
  }
 ],
 "metadata": {
  "kernelspec": {
   "display_name": "Python 3 (ipykernel)",
   "language": "python",
   "name": "python3"
  },
  "language_info": {
   "codemirror_mode": {
    "name": "ipython",
    "version": 3
   },
   "file_extension": ".py",
   "mimetype": "text/x-python",
   "name": "python",
   "nbconvert_exporter": "python",
   "pygments_lexer": "ipython3",
   "version": "3.9.13"
  }
 },
 "nbformat": 4,
 "nbformat_minor": 5
}
