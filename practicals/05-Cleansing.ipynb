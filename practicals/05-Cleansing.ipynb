{
 "cells": [
  {
   "cell_type": "markdown",
   "id": "23c56176",
   "metadata": {},
   "source": [
    "# Data Cleansing\n",
    "***"
   ]
  },
  {
   "cell_type": "markdown",
   "id": "23159607",
   "metadata": {},
   "source": [
    "## Regular Expressions\n",
    "***"
   ]
  },
  {
   "cell_type": "markdown",
   "id": "dfb316b9",
   "metadata": {},
   "source": [
    "https://docs.python.org/3/library/re.html\n",
    "\n",
    "https://realpython.com/regex-python/\n",
    "\n",
    "https://realpython.com/regex-python-part-2/\n",
    "\n",
    "https://developers.google.com/edu/python/regular-expressions"
   ]
  },
  {
   "cell_type": "markdown",
   "id": "2db84653",
   "metadata": {},
   "source": [
    "## Python's re module\n",
    "***"
   ]
  },
  {
   "cell_type": "code",
   "execution_count": 2,
   "id": "8e8a0d7f",
   "metadata": {},
   "outputs": [],
   "source": [
    "import re"
   ]
  },
  {
   "cell_type": "markdown",
   "id": "f2f7a3cb",
   "metadata": {},
   "source": [
    "\\w = '[a-zA-Z0-9_]'\n",
    "\n",
    "\\W = '[^a-zA-Z0-9_]'"
   ]
  },
  {
   "cell_type": "code",
   "execution_count": 3,
   "id": "b6c421f9",
   "metadata": {},
   "outputs": [
    {
     "name": "stdout",
     "output_type": "stream",
     "text": [
      "['Words', 'words', 'words', '']\n"
     ]
    }
   ],
   "source": [
    "# r at start means the raw string, do not escape any of the characters\n",
    "# \\W Matahces generally means whitespace (Ian)\n",
    "# \\W Matches any character which is not a word character (https://docs.python.org/3/library/re.html)\n",
    "\n",
    "# \\w Matches Unicode word characters (https://docs.python.org/3/library/re.html)\n",
    "\n",
    "# + means match 1 or more repetitions\n",
    "\n",
    "# A string to be manipulated.\n",
    "original = 'Words, words, words.'\n",
    "\n",
    "# The pattern/regular expression to use on the above string.\n",
    "\n",
    "pattern = r'\\W+' # in other words set up the string \\W+, do not escape it, we ned it as it is when passingt it to split\n",
    "\n",
    "# Splits a string into substrings using a regular expression.\n",
    "result = re.split(pattern, original)\n",
    "\n",
    "# Print the result.\n",
    "print(result)"
   ]
  },
  {
   "cell_type": "code",
   "execution_count": 4,
   "id": "22eff06e",
   "metadata": {},
   "outputs": [
    {
     "name": "stdout",
     "output_type": "stream",
     "text": [
      "['Words', ', ', 'words', ', ', 'words', '.', '']\n"
     ]
    }
   ],
   "source": [
    "# A string to be manipulated.\n",
    "original = 'Words, words, words.'\n",
    "\n",
    "# The pattern/regular expression to use on the above string.\n",
    "pattern = r'(\\W+)'\n",
    "\n",
    "# Splits a string into substrings using a regular expression.\n",
    "result = re.split(pattern, original)\n",
    "\n",
    "# Print the result.\n",
    "print(result)"
   ]
  },
  {
   "cell_type": "code",
   "execution_count": 5,
   "id": "8d406020",
   "metadata": {},
   "outputs": [
    {
     "data": {
      "text/plain": [
       "['Words', 'words, words.']"
      ]
     },
     "execution_count": 5,
     "metadata": {},
     "output_type": "execute_result"
    }
   ],
   "source": [
    "re.split(r'\\W+', 'Words, words, words.', 1)"
   ]
  },
  {
   "cell_type": "code",
   "execution_count": 6,
   "id": "43e91d43",
   "metadata": {},
   "outputs": [
    {
     "data": {
      "text/plain": [
       "['0', '3', '9']"
      ]
     },
     "execution_count": 6,
     "metadata": {},
     "output_type": "execute_result"
    }
   ],
   "source": [
    "# Split it on letters a to f (ignore case)\n",
    "re.split('[a-f]+', '0a3B9', flags=re.IGNORECASE)"
   ]
  },
  {
   "cell_type": "markdown",
   "id": "485f1601",
   "metadata": {},
   "source": [
    "## Real Python\n",
    "***"
   ]
  },
  {
   "cell_type": "code",
   "execution_count": 7,
   "id": "9d3e215d",
   "metadata": {},
   "outputs": [
    {
     "data": {
      "text/plain": [
       "True"
      ]
     },
     "execution_count": 7,
     "metadata": {},
     "output_type": "execute_result"
    }
   ],
   "source": [
    "'abccba' == 'abccba'"
   ]
  },
  {
   "cell_type": "code",
   "execution_count": 8,
   "id": "af76ff49",
   "metadata": {},
   "outputs": [
    {
     "data": {
      "text/plain": [
       "False"
      ]
     },
     "execution_count": 8,
     "metadata": {},
     "output_type": "execute_result"
    }
   ],
   "source": [
    "'abccba' == 'cbaabc'"
   ]
  },
  {
   "cell_type": "code",
   "execution_count": 9,
   "id": "3030c735",
   "metadata": {},
   "outputs": [
    {
     "data": {
      "text/plain": [
       "True"
      ]
     },
     "execution_count": 9,
     "metadata": {},
     "output_type": "execute_result"
    }
   ],
   "source": [
    "'abc' in 'cbaabc'"
   ]
  },
  {
   "cell_type": "code",
   "execution_count": 10,
   "id": "7e1a2714",
   "metadata": {},
   "outputs": [
    {
     "data": {
      "text/plain": [
       "2"
      ]
     },
     "execution_count": 10,
     "metadata": {},
     "output_type": "execute_result"
    }
   ],
   "source": [
    "'cbaabc'.index('a')"
   ]
  },
  {
   "cell_type": "code",
   "execution_count": 11,
   "id": "81a12737",
   "metadata": {},
   "outputs": [
    {
     "data": {
      "text/plain": [
       "'a'"
      ]
     },
     "execution_count": 11,
     "metadata": {},
     "output_type": "execute_result"
    }
   ],
   "source": [
    "'cbaabc'[2]"
   ]
  },
  {
   "cell_type": "code",
   "execution_count": 12,
   "id": "848a0a0b",
   "metadata": {},
   "outputs": [
    {
     "data": {
      "text/plain": [
       "2"
      ]
     },
     "execution_count": 12,
     "metadata": {},
     "output_type": "execute_result"
    }
   ],
   "source": [
    "'cbaaabc'.find('aa')"
   ]
  },
  {
   "cell_type": "code",
   "execution_count": 13,
   "id": "7b47de70",
   "metadata": {},
   "outputs": [
    {
     "data": {
      "text/plain": [
       "<re.Match object; span=(3, 6), match='123'>"
      ]
     },
     "execution_count": 13,
     "metadata": {},
     "output_type": "execute_result"
    }
   ],
   "source": [
    "s = 'foo123bar'\n",
    "\n",
    "re.search('123', s)"
   ]
  },
  {
   "cell_type": "code",
   "execution_count": 14,
   "id": "1c846e9c",
   "metadata": {},
   "outputs": [
    {
     "data": {
      "text/plain": [
       "<re.Match object; span=(3, 6), match='456'>"
      ]
     },
     "execution_count": 14,
     "metadata": {},
     "output_type": "execute_result"
    }
   ],
   "source": [
    "re.search(r'[0-9][0-9][0-9]', 'foo456bar')"
   ]
  },
  {
   "cell_type": "code",
   "execution_count": 15,
   "id": "8c7584fd",
   "metadata": {},
   "outputs": [
    {
     "data": {
      "text/plain": [
       "<re.Match object; span=(0, 3), match='234'>"
      ]
     },
     "execution_count": 15,
     "metadata": {},
     "output_type": "execute_result"
    }
   ],
   "source": [
    "re.search(r'[0-9][0-9][0-9]', '234baz')"
   ]
  },
  {
   "cell_type": "code",
   "execution_count": 16,
   "id": "00be3684",
   "metadata": {},
   "outputs": [
    {
     "data": {
      "text/plain": [
       "<re.Match object; span=(3, 6), match='678'>"
      ]
     },
     "execution_count": 16,
     "metadata": {},
     "output_type": "execute_result"
    }
   ],
   "source": [
    "re.search(r'[0-9][0-9][0-9]', 'qux678')"
   ]
  },
  {
   "cell_type": "code",
   "execution_count": 17,
   "id": "4a976f48",
   "metadata": {},
   "outputs": [
    {
     "name": "stdout",
     "output_type": "stream",
     "text": [
      "None\n"
     ]
    }
   ],
   "source": [
    "print(re.search(r'[0-9][0-9][0-9]', '12foo34'))"
   ]
  },
  {
   "cell_type": "code",
   "execution_count": 18,
   "id": "18832cc9",
   "metadata": {},
   "outputs": [
    {
     "data": {
      "text/plain": [
       "<re.Match object; span=(3, 6), match='678'>"
      ]
     },
     "execution_count": 18,
     "metadata": {},
     "output_type": "execute_result"
    }
   ],
   "source": [
    "re.search(r'[0-9]{3}', 'qux678')"
   ]
  },
  {
   "cell_type": "code",
   "execution_count": 19,
   "id": "e02d72a4",
   "metadata": {},
   "outputs": [
    {
     "name": "stdout",
     "output_type": "stream",
     "text": [
      "<re.Match object; span=(0, 3), match='122'>\n"
     ]
    }
   ],
   "source": [
    "# Only gives first match\n",
    "print(re.search(r'[0-9][0-9][0-9]', '122foo344'))"
   ]
  },
  {
   "cell_type": "code",
   "execution_count": 20,
   "id": "211a73a3",
   "metadata": {},
   "outputs": [
    {
     "name": "stdout",
     "output_type": "stream",
     "text": [
      "yes\n"
     ]
    }
   ],
   "source": [
    "if 'Hello':\n",
    "    print (\"yes\")\n",
    "else:\n",
    "    print(\"no\")"
   ]
  },
  {
   "cell_type": "code",
   "execution_count": 21,
   "id": "fdfccf5e",
   "metadata": {},
   "outputs": [
    {
     "name": "stdout",
     "output_type": "stream",
     "text": [
      "no\n"
     ]
    }
   ],
   "source": [
    "if '':\n",
    "    print (\"yes\")\n",
    "else:\n",
    "    print(\"no\")"
   ]
  },
  {
   "cell_type": "markdown",
   "id": "f3461caa",
   "metadata": {},
   "source": [
    "## Google for Education\n",
    "***"
   ]
  },
  {
   "cell_type": "markdown",
   "id": "25e9972a",
   "metadata": {},
   "source": [
    ". (a period) -- matches any single character except newline '\\n'\n",
    "\n",
    "***"
   ]
  },
  {
   "cell_type": "code",
   "execution_count": 22,
   "id": "725ad6e0",
   "metadata": {},
   "outputs": [
    {
     "name": "stdout",
     "output_type": "stream",
     "text": [
      "found word:cat\n"
     ]
    }
   ],
   "source": [
    "import re\n",
    "\n",
    "str = 'an example word:cat!!'\n",
    "match = re.search(r'word:\\w\\w\\w', str)\n",
    "\n",
    "# If-statement after search() tests if it succeeded\n",
    "if match:\n",
    "  print('found', match.group()) ## 'found word:cat'\n",
    "else:\n",
    "  print('did not find')"
   ]
  },
  {
   "cell_type": "code",
   "execution_count": 23,
   "id": "8ade902a",
   "metadata": {},
   "outputs": [
    {
     "data": {
      "text/plain": [
       "<re.Match object; span=(0, 4), match='aaaa'>"
      ]
     },
     "execution_count": 23,
     "metadata": {},
     "output_type": "execute_result"
    }
   ],
   "source": [
    "# + -- 1 or more occurrences of the pattern. Ref: https://developers.google.com/edu/python/regular-expressions\n",
    "\n",
    "string = 'aaaabaa'\n",
    "pattern = r'a+'\n",
    "\n",
    "re.search(pattern, string)"
   ]
  },
  {
   "cell_type": "code",
   "execution_count": 24,
   "id": "69e5a93d",
   "metadata": {},
   "outputs": [
    {
     "data": {
      "text/plain": [
       "<re.Match object; span=(0, 4), match='aaaa'>"
      ]
     },
     "execution_count": 24,
     "metadata": {},
     "output_type": "execute_result"
    }
   ],
   "source": [
    "# * -- 0 or more occurrences of the pattern. Ref: https://developers.google.com/edu/python/regular-expressions\n",
    "\n",
    "string = 'aaaabaa'\n",
    "pattern = r'a*'\n",
    "\n",
    "re.search(pattern, string)"
   ]
  },
  {
   "cell_type": "code",
   "execution_count": 25,
   "id": "c9559e40",
   "metadata": {},
   "outputs": [
    {
     "data": {
      "text/plain": [
       "<re.Match object; span=(0, 4), match='piii'>"
      ]
     },
     "execution_count": 25,
     "metadata": {},
     "output_type": "execute_result"
    }
   ],
   "source": [
    "## i+ = one or more i's, as many as possible.\n",
    "match = re.search(r'pi+', 'piiig') # found, match.group() == \"piii\"\n",
    "match"
   ]
  },
  {
   "cell_type": "code",
   "execution_count": 26,
   "id": "f9fe90cf",
   "metadata": {},
   "outputs": [
    {
     "data": {
      "text/plain": [
       "<re.Match object; span=(1, 3), match='ii'>"
      ]
     },
     "execution_count": 26,
     "metadata": {},
     "output_type": "execute_result"
    }
   ],
   "source": [
    "## Finds the first/leftmost solution, and within it drives the +\n",
    "## as far as possible (aka 'leftmost and largest').\n",
    "## In this example, note that it does not get to the second set of i's.\n",
    "match = re.search(r'i+', 'piigiiii') # found, match.group() == \"ii\"\n",
    "match"
   ]
  },
  {
   "cell_type": "code",
   "execution_count": 27,
   "id": "e1eb824b",
   "metadata": {},
   "outputs": [
    {
     "name": "stdout",
     "output_type": "stream",
     "text": [
      "<re.Match object; span=(2, 9), match='1 2   3'>\n",
      "<re.Match object; span=(2, 7), match='12  3'>\n",
      "<re.Match object; span=(2, 5), match='123'>\n"
     ]
    }
   ],
   "source": [
    "## \\s* = zero or more whitespace chars\n",
    "## Here look for 3 digits, possibly separated by whitespace.\n",
    "match = re.search(r'\\d\\s*\\d\\s*\\d', 'xx1 2   3xx') # found, match.group() == \"1 2   3\"\n",
    "print(match)\n",
    "match = re.search(r'\\d\\s*\\d\\s*\\d', 'xx12  3xx') # found, match.group() == \"12  3\"\n",
    "print(match)\n",
    "match = re.search(r'\\d\\s*\\d\\s*\\d', 'xx123xx') # found, match.group() == \"123\"\n",
    "print(match)"
   ]
  },
  {
   "cell_type": "code",
   "execution_count": 28,
   "id": "64795bfb",
   "metadata": {},
   "outputs": [],
   "source": [
    "## ^ = matches the start of string, so this fails:\n",
    "match = re.search(r'^b\\w+', 'foobar') # not found, match == None\n",
    "match"
   ]
  },
  {
   "cell_type": "code",
   "execution_count": 29,
   "id": "68d5ba97",
   "metadata": {},
   "outputs": [
    {
     "data": {
      "text/plain": [
       "<re.Match object; span=(3, 6), match='bar'>"
      ]
     },
     "execution_count": 29,
     "metadata": {},
     "output_type": "execute_result"
    }
   ],
   "source": [
    "## but without the ^ it succeeds:\n",
    "match = re.search(r'b\\w+', 'foobar') # found, match.group() == \"bar\"\n",
    "match"
   ]
  },
  {
   "cell_type": "code",
   "execution_count": 30,
   "id": "d6085863",
   "metadata": {},
   "outputs": [
    {
     "name": "stdout",
     "output_type": "stream",
     "text": [
      "b@google\n"
     ]
    }
   ],
   "source": [
    "str = 'purple alice-b@google.com monkey dishwasher'\n",
    "match = re.search(r'\\w+@\\w+', str)\n",
    "if match:\n",
    "    print(match.group())  ## 'b@google'"
   ]
  },
  {
   "cell_type": "markdown",
   "id": "1b760993",
   "metadata": {},
   "source": [
    "***\n",
    "## Exercise 1\n",
    "***"
   ]
  },
  {
   "cell_type": "markdown",
   "id": "a420fbe9",
   "metadata": {},
   "source": [
    "Write a Python function to remove all non-alphanumeric characters from a string.\n",
    "\n",
    "***"
   ]
  },
  {
   "cell_type": "code",
   "execution_count": 31,
   "id": "7d47f663",
   "metadata": {},
   "outputs": [
    {
     "data": {
      "text/plain": [
       "'Thishasnumbers123lettersandsymbolsRemoveeverythingsuchasevenspacesexceptlettersandnumbers'"
      ]
     },
     "execution_count": 31,
     "metadata": {},
     "output_type": "execute_result"
    }
   ],
   "source": [
    "# Answer 1 removes spaces also\n",
    "\n",
    "# According to https://docs.python.org/3/library/re.html:\n",
    "#    \\W is equivalent of [^a-zA-Z0-9_]\n",
    "#    re.sub(pattern, repl, string)\n",
    "#    Return the string obtained by replacing occurrences of pattern in string by the replacement repl\n",
    "# I am replacing occurances of non-words with the empty string, so esentially removing them.\n",
    "\n",
    "def letters_numbers_only(text) :\n",
    "    # \\w = '[a-zA-Z0-9_]'\n",
    "    return re.sub(r'[\\W_]', '', text)\n",
    "\n",
    "letters_numbers_only(\"This has numbers 123, letters and symbols. Remove everything, such as $, even spaces, except letters and numbers\")"
   ]
  },
  {
   "cell_type": "code",
   "execution_count": 32,
   "id": "ccdc1a5c",
   "metadata": {},
   "outputs": [
    {
     "data": {
      "text/plain": [
       "'This has numbers 123 letters and symbols Remove everything such as  except letters and numbers'"
      ]
     },
     "execution_count": 32,
     "metadata": {},
     "output_type": "execute_result"
    }
   ],
   "source": [
    "# Answer 2 does not remove spaces (Debate on whether space is an alphanumeric character)\n",
    "\n",
    "# \\s -- (lowercase s) matches a single whitespace character, ref: https://developers.google.com/edu/python/regular-expressions\n",
    "\n",
    "def letters_numbers_spaces_only(text) :\n",
    "    return re.sub(r'[^\\w\\s]', '', text)\n",
    "\n",
    "letters_numbers_spaces_only(\"This has numbers 123, letters and symbols. Remove everything, such as $, except letters and numbers\")"
   ]
  },
  {
   "cell_type": "markdown",
   "id": "270c083d",
   "metadata": {},
   "source": [
    "## Second part of Real Python's Regexes"
   ]
  },
  {
   "cell_type": "markdown",
   "id": "55651eda",
   "metadata": {},
   "source": [
    "#### Remember\n",
    "\n",
    "The 'r' at the start of the pattern string designates a python \"raw\" string which passes through backslashes without change "
   ]
  },
  {
   "cell_type": "code",
   "execution_count": 33,
   "id": "be316017",
   "metadata": {},
   "outputs": [
    {
     "data": {
      "text/plain": [
       "<re.Match object; span=(3, 6), match='123'>"
      ]
     },
     "execution_count": 33,
     "metadata": {},
     "output_type": "execute_result"
    }
   ],
   "source": [
    "# + means 1 or more.\n",
    "\n",
    "re.search(r'(\\d+)', 'foo123bar')"
   ]
  },
  {
   "cell_type": "code",
   "execution_count": 34,
   "id": "2bb520ec",
   "metadata": {},
   "outputs": [
    {
     "data": {
      "text/plain": [
       "<re.Match object; span=(3, 6), match='FOO'>"
      ]
     },
     "execution_count": 34,
     "metadata": {},
     "output_type": "execute_result"
    }
   ],
   "source": [
    "re.search(r'[a-z]+', '123FOO456', flags=re.IGNORECASE)"
   ]
  },
  {
   "cell_type": "code",
   "execution_count": 35,
   "id": "dd3ba01a",
   "metadata": {},
   "outputs": [
    {
     "name": "stdout",
     "output_type": "stream",
     "text": [
      "None\n"
     ]
    }
   ],
   "source": [
    "print(re.search(r'\\d+', 'foo.bar'))"
   ]
  },
  {
   "cell_type": "code",
   "execution_count": 36,
   "id": "b318e8d3",
   "metadata": {},
   "outputs": [
    {
     "data": {
      "text/plain": [
       "<re.Match object; span=(0, 3), match='123'>"
      ]
     },
     "execution_count": 36,
     "metadata": {},
     "output_type": "execute_result"
    }
   ],
   "source": [
    "re.search(r'\\d+', '123foobar')"
   ]
  },
  {
   "cell_type": "code",
   "execution_count": 37,
   "id": "dc207e0f",
   "metadata": {},
   "outputs": [
    {
     "data": {
      "text/plain": [
       "<re.Match object; span=(3, 6), match='123'>"
      ]
     },
     "execution_count": 37,
     "metadata": {},
     "output_type": "execute_result"
    }
   ],
   "source": [
    "re.search(r'\\d+', 'foo123bar')"
   ]
  },
  {
   "cell_type": "code",
   "execution_count": 38,
   "id": "52908343",
   "metadata": {},
   "outputs": [
    {
     "data": {
      "text/plain": [
       "<re.Match object; span=(0, 3), match='123'>"
      ]
     },
     "execution_count": 38,
     "metadata": {},
     "output_type": "execute_result"
    }
   ],
   "source": [
    "re.match(r'\\d+', '123foobar')"
   ]
  },
  {
   "cell_type": "code",
   "execution_count": 39,
   "id": "cb9e3853",
   "metadata": {},
   "outputs": [
    {
     "name": "stdout",
     "output_type": "stream",
     "text": [
      "None\n"
     ]
    }
   ],
   "source": [
    "# Match only looks at beginning of string\n",
    "\n",
    "print(re.match(r'\\d+', 'foo123bar'))"
   ]
  },
  {
   "cell_type": "code",
   "execution_count": 56,
   "id": "770d88db",
   "metadata": {},
   "outputs": [
    {
     "name": "stdout",
     "output_type": "stream",
     "text": [
      "None\n"
     ]
    }
   ],
   "source": [
    "print(re.fullmatch(r'\\d+', '123foobar'))"
   ]
  },
  {
   "cell_type": "code",
   "execution_count": 40,
   "id": "20c7ee19",
   "metadata": {},
   "outputs": [
    {
     "data": {
      "text/plain": [
       "<re.Match object; span=(0, 3), match='123'>"
      ]
     },
     "execution_count": 40,
     "metadata": {},
     "output_type": "execute_result"
    }
   ],
   "source": [
    "re.fullmatch(r'\\d+', '123')"
   ]
  },
  {
   "cell_type": "code",
   "execution_count": 68,
   "id": "850636ae",
   "metadata": {},
   "outputs": [
    {
     "data": {
      "text/plain": [
       "<re.Match object; span=(0, 3), match='123'>"
      ]
     },
     "execution_count": 68,
     "metadata": {},
     "output_type": "execute_result"
    }
   ],
   "source": [
    "# ^ means a match at the start of the string\n",
    "# + means 1 or more\n",
    "# $ Anchors a match at the end of a string\n",
    "\n",
    "# Esentially looking for only numbers\n",
    "\n",
    "re.search(r'^\\d+$', '123')"
   ]
  },
  {
   "cell_type": "code",
   "execution_count": 42,
   "id": "6ffb2780",
   "metadata": {},
   "outputs": [
    {
     "name": "stdout",
     "output_type": "stream",
     "text": [
      "None\n"
     ]
    }
   ],
   "source": [
    "print(re.search(r'^\\d+', 'foo123bar'))"
   ]
  },
  {
   "cell_type": "code",
   "execution_count": 44,
   "id": "e7b459ed",
   "metadata": {},
   "outputs": [
    {
     "name": "stdout",
     "output_type": "stream",
     "text": [
      "<re.Match object; span=(0, 3), match='123'>\n"
     ]
    }
   ],
   "source": [
    "print(re.search(r'^\\d+', '123foobar'))"
   ]
  },
  {
   "cell_type": "code",
   "execution_count": 46,
   "id": "718f11a5",
   "metadata": {},
   "outputs": [
    {
     "name": "stdout",
     "output_type": "stream",
     "text": [
      "None\n"
     ]
    }
   ],
   "source": [
    "print(re.search(r'^\\d+$', '123foobar'))"
   ]
  },
  {
   "cell_type": "code",
   "execution_count": 47,
   "id": "3bb9dbf3",
   "metadata": {},
   "outputs": [
    {
     "data": {
      "text/plain": [
       "<re.Match object; span=(0, 3), match='123'>"
      ]
     },
     "execution_count": 47,
     "metadata": {},
     "output_type": "execute_result"
    }
   ],
   "source": [
    "re.search(r'\\d+', '123foo456bar789.')"
   ]
  },
  {
   "cell_type": "code",
   "execution_count": 48,
   "id": "637d781e",
   "metadata": {},
   "outputs": [
    {
     "data": {
      "text/plain": [
       "<re.Match object; span=(0, 3), match='123'>"
      ]
     },
     "execution_count": 48,
     "metadata": {},
     "output_type": "execute_result"
    }
   ],
   "source": [
    "re.match(r'\\d+', '123foo456bar789.')"
   ]
  },
  {
   "cell_type": "code",
   "execution_count": 49,
   "id": "641c4e36",
   "metadata": {},
   "outputs": [],
   "source": [
    "re.fullmatch(r'\\d+', '123foo456bar789.')"
   ]
  },
  {
   "cell_type": "code",
   "execution_count": 50,
   "id": "cb895929",
   "metadata": {},
   "outputs": [
    {
     "data": {
      "text/plain": [
       "['123', '456', '789']"
      ]
     },
     "execution_count": 50,
     "metadata": {},
     "output_type": "execute_result"
    }
   ],
   "source": [
    "re.findall(r'\\d+', '123foo456bar789.')"
   ]
  },
  {
   "cell_type": "markdown",
   "id": "5f003f89",
   "metadata": {},
   "source": [
    "https://realpython.com/introduction-to-python-generators/"
   ]
  },
  {
   "cell_type": "code",
   "execution_count": 51,
   "id": "e980d28a",
   "metadata": {},
   "outputs": [
    {
     "data": {
      "text/plain": [
       "<callable_iterator at 0x29aa9453220>"
      ]
     },
     "execution_count": 51,
     "metadata": {},
     "output_type": "execute_result"
    }
   ],
   "source": [
    "matches = re.finditer(r'\\d+', '123foo456bar789.')\n",
    "matches"
   ]
  },
  {
   "cell_type": "code",
   "execution_count": 52,
   "id": "27764e7a",
   "metadata": {},
   "outputs": [
    {
     "data": {
      "text/plain": [
       "<re.Match object; span=(0, 3), match='123'>"
      ]
     },
     "execution_count": 52,
     "metadata": {},
     "output_type": "execute_result"
    }
   ],
   "source": [
    "next(matches)"
   ]
  },
  {
   "cell_type": "code",
   "execution_count": 53,
   "id": "c49b31f7",
   "metadata": {},
   "outputs": [
    {
     "data": {
      "text/plain": [
       "<re.Match object; span=(6, 9), match='456'>"
      ]
     },
     "execution_count": 53,
     "metadata": {},
     "output_type": "execute_result"
    }
   ],
   "source": [
    "next(matches)"
   ]
  },
  {
   "cell_type": "code",
   "execution_count": 54,
   "id": "99eaa5d1",
   "metadata": {},
   "outputs": [
    {
     "data": {
      "text/plain": [
       "<re.Match object; span=(12, 15), match='789'>"
      ]
     },
     "execution_count": 54,
     "metadata": {},
     "output_type": "execute_result"
    }
   ],
   "source": [
    "next(matches)"
   ]
  },
  {
   "cell_type": "code",
   "execution_count": 55,
   "id": "810311ca",
   "metadata": {},
   "outputs": [
    {
     "name": "stdout",
     "output_type": "stream",
     "text": [
      "None\n"
     ]
    }
   ],
   "source": [
    "try:\n",
    "    next(matches)\n",
    "except:\n",
    "    print(None)"
   ]
  },
  {
   "cell_type": "code",
   "execution_count": 69,
   "id": "4df492c8",
   "metadata": {},
   "outputs": [
    {
     "name": "stdout",
     "output_type": "stream",
     "text": [
      "<re.Match object; span=(0, 3), match='123'>\n",
      "<re.Match object; span=(6, 9), match='456'>\n",
      "<re.Match object; span=(12, 15), match='789'>\n"
     ]
    }
   ],
   "source": [
    "matches = re.finditer(r'\\d+', '123foo456bar789.')\n",
    "\n",
    "for match in matches:\n",
    "    print(match)"
   ]
  },
  {
   "cell_type": "markdown",
   "id": "60815370",
   "metadata": {},
   "source": [
    "## re.sub()\n",
    "---"
   ]
  },
  {
   "cell_type": "code",
   "execution_count": 70,
   "id": "f9c58195",
   "metadata": {},
   "outputs": [],
   "source": [
    "s = 'foo.123.bar.789.baz'"
   ]
  },
  {
   "cell_type": "code",
   "execution_count": 71,
   "id": "8a101a95",
   "metadata": {},
   "outputs": [
    {
     "data": {
      "text/plain": [
       "'foo.#.bar.#.baz'"
      ]
     },
     "execution_count": 71,
     "metadata": {},
     "output_type": "execute_result"
    }
   ],
   "source": [
    "re.sub(r'\\d+', '#', s)"
   ]
  },
  {
   "cell_type": "code",
   "execution_count": 72,
   "id": "e6c5aa26",
   "metadata": {},
   "outputs": [
    {
     "data": {
      "text/plain": [
       "'(*).123.(*).789.(*)'"
      ]
     },
     "execution_count": 72,
     "metadata": {},
     "output_type": "execute_result"
    }
   ],
   "source": [
    "re.sub('[a-z]+', '(*)', s)"
   ]
  },
  {
   "cell_type": "code",
   "execution_count": 73,
   "id": "39c6e6b3",
   "metadata": {},
   "outputs": [
    {
     "data": {
      "text/plain": [
       "'123foo456bar'"
      ]
     },
     "execution_count": 73,
     "metadata": {},
     "output_type": "execute_result"
    }
   ],
   "source": [
    "# swaps digit strings with alpha strings in string.\n",
    "re.sub(r'([a-z]+)([0-9]+)', r'\\2\\1', 'foo123bar456')"
   ]
  },
  {
   "cell_type": "code",
   "execution_count": 74,
   "id": "d032b044",
   "metadata": {},
   "outputs": [
    {
     "data": {
      "text/plain": [
       "'qux,bar,baz,foo'"
      ]
     },
     "execution_count": 74,
     "metadata": {},
     "output_type": "execute_result"
    }
   ],
   "source": [
    "# swaps first and last strings\n",
    "re.sub(r'(\\w+),bar,baz,(\\w+)', r'\\2,bar,baz,\\1', 'foo,bar,baz,qux')"
   ]
  },
  {
   "cell_type": "markdown",
   "id": "e469a98e",
   "metadata": {},
   "source": [
    "## Compiling\n",
    "---"
   ]
  },
  {
   "cell_type": "code",
   "execution_count": 77,
   "id": "9182eab0",
   "metadata": {},
   "outputs": [
    {
     "data": {
      "text/plain": [
       "re.compile(r'([0-9]+)', re.UNICODE)"
      ]
     },
     "execution_count": 77,
     "metadata": {},
     "output_type": "execute_result"
    }
   ],
   "source": [
    "my_regex = re.compile(r'([0-9]+)')\n",
    "my_regex"
   ]
  },
  {
   "cell_type": "code",
   "execution_count": 78,
   "id": "2ffbe2a1",
   "metadata": {},
   "outputs": [
    {
     "data": {
      "text/plain": [
       "<re.Match object; span=(3, 6), match='123'>"
      ]
     },
     "execution_count": 78,
     "metadata": {},
     "output_type": "execute_result"
    }
   ],
   "source": [
    "my_regex.search('foo123bar456')"
   ]
  },
  {
   "cell_type": "code",
   "execution_count": 79,
   "id": "7eae07c7",
   "metadata": {},
   "outputs": [
    {
     "data": {
      "text/plain": [
       "['123', '456']"
      ]
     },
     "execution_count": 79,
     "metadata": {},
     "output_type": "execute_result"
    }
   ],
   "source": [
    "my_regex.findall('foo123bar456')"
   ]
  },
  {
   "cell_type": "code",
   "execution_count": 80,
   "id": "48623aa7",
   "metadata": {},
   "outputs": [
    {
     "data": {
      "text/plain": [
       "'foo...bar...'"
      ]
     },
     "execution_count": 80,
     "metadata": {},
     "output_type": "execute_result"
    }
   ],
   "source": [
    "my_regex.sub(r'...', 'foo123bar456')"
   ]
  },
  {
   "cell_type": "markdown",
   "id": "cffcaa88",
   "metadata": {},
   "source": [
    "## Regular Experssions on iris\n",
    "---"
   ]
  },
  {
   "cell_type": "code",
   "execution_count": 120,
   "id": "6c1c5962",
   "metadata": {},
   "outputs": [
    {
     "data": {
      "text/plain": [
       "['5.1,3.5,1.4,0.2,Iris-setosa',\n",
       " '4.9,3.0,1.4,0.2,Iris-setosa',\n",
       " '4.7,3.2,1.3,0.2,Iris-setosa',\n",
       " '4.6,3.1,1.5,0.2,Iris-setosa',\n",
       " '5.0,3.6,1.4,0.2,Iris-setosa',\n",
       " '5.4,3.9,1.7,0.4,Iris-setosa',\n",
       " '4.6,3.4,1.4,0.3,Iris-setosa',\n",
       " '5.0,3.4,1.5,0.2,Iris-setosa',\n",
       " '4.4,2.9,1.4,0.2,Iris-setosa',\n",
       " '4.9,3.1,1.5,0.1,Iris-setosa',\n",
       " '5.4,3.7,1.5,0.2,Iris-setosa',\n",
       " '4.8,3.4,1.6,0.2,Iris-setosa',\n",
       " '4.8,3.0,1.4,0.1,Iris-setosa',\n",
       " '4.3,3.0,1.1,0.1,Iris-setosa',\n",
       " '5.8,4.0,1.2,0.2,Iris-setosa',\n",
       " '5.7,4.4,1.5,0.4,Iris-setosa',\n",
       " '5.4,3.9,1.3,0.4,Iris-setosa',\n",
       " '5.1,3.5,1.4,0.3,Iris-setosa',\n",
       " '5.7,3.8,1.7,0.3,Iris-setosa',\n",
       " '5.1,3.8,1.5,0.3,Iris-setosa',\n",
       " '5.4,3.4,1.7,0.2,Iris-setosa',\n",
       " '5.1,3.7,1.5,0.4,Iris-setosa',\n",
       " '4.6,3.6,1.0,0.2,Iris-setosa',\n",
       " '5.1,3.3,1.7,0.5,Iris-setosa',\n",
       " '4.8,3.4,1.9,0.2,Iris-setosa',\n",
       " '5.0,3.0,1.6,0.2,Iris-setosa',\n",
       " '5.0,3.4,1.6,0.4,Iris-setosa',\n",
       " '5.2,3.5,1.5,0.2,Iris-setosa',\n",
       " '5.2,3.4,1.4,0.2,Iris-setosa',\n",
       " '4.7,3.2,1.6,0.2,Iris-setosa',\n",
       " '4.8,3.1,1.6,0.2,Iris-setosa',\n",
       " '5.4,3.4,1.5,0.4,Iris-setosa',\n",
       " '5.2,4.1,1.5,0.1,Iris-setosa',\n",
       " '5.5,4.2,1.4,0.2,Iris-setosa',\n",
       " '4.9,3.1,1.5,0.1,Iris-setosa',\n",
       " '5.0,3.2,1.2,0.2,Iris-setosa',\n",
       " '5.5,3.5,1.3,0.2,Iris-setosa',\n",
       " '4.9,3.1,1.5,0.1,Iris-setosa',\n",
       " '4.4,3.0,1.3,0.2,Iris-setosa',\n",
       " '5.1,3.4,1.5,0.2,Iris-setosa',\n",
       " '5.0,3.5,1.3,0.3,Iris-setosa',\n",
       " '4.5,2.3,1.3,0.3,Iris-setosa',\n",
       " '4.4,3.2,1.3,0.2,Iris-setosa',\n",
       " '5.0,3.5,1.6,0.6,Iris-setosa',\n",
       " '5.1,3.8,1.9,0.4,Iris-setosa',\n",
       " '4.8,3.0,1.4,0.3,Iris-setosa',\n",
       " '5.1,3.8,1.6,0.2,Iris-setosa',\n",
       " '4.6,3.2,1.4,0.2,Iris-setosa',\n",
       " '5.3,3.7,1.5,0.2,Iris-setosa',\n",
       " '5.0,3.3,1.4,0.2,Iris-setosa',\n",
       " '7.0,3.2,4.7,1.4,Iris-versicolor',\n",
       " '6.4,3.2,4.5,1.5,Iris-versicolor',\n",
       " '6.9,3.1,4.9,1.5,Iris-versicolor',\n",
       " '5.5,2.3,4.0,1.3,Iris-versicolor',\n",
       " '6.5,2.8,4.6,1.5,Iris-versicolor',\n",
       " '5.7,2.8,4.5,1.3,Iris-versicolor',\n",
       " '6.3,3.3,4.7,1.6,Iris-versicolor',\n",
       " '4.9,2.4,3.3,1.0,Iris-versicolor',\n",
       " '6.6,2.9,4.6,1.3,Iris-versicolor',\n",
       " '5.2,2.7,3.9,1.4,Iris-versicolor',\n",
       " '5.0,2.0,3.5,1.0,Iris-versicolor',\n",
       " '5.9,3.0,4.2,1.5,Iris-versicolor',\n",
       " '6.0,2.2,4.0,1.0,Iris-versicolor',\n",
       " '6.1,2.9,4.7,1.4,Iris-versicolor',\n",
       " '5.6,2.9,3.6,1.3,Iris-versicolor',\n",
       " '6.7,3.1,4.4,1.4,Iris-versicolor',\n",
       " '5.6,3.0,4.5,1.5,Iris-versicolor',\n",
       " '5.8,2.7,4.1,1.0,Iris-versicolor',\n",
       " '6.2,2.2,4.5,1.5,Iris-versicolor',\n",
       " '5.6,2.5,3.9,1.1,Iris-versicolor',\n",
       " '5.9,3.2,4.8,1.8,Iris-versicolor',\n",
       " '6.1,2.8,4.0,1.3,Iris-versicolor',\n",
       " '6.3,2.5,4.9,1.5,Iris-versicolor',\n",
       " '6.1,2.8,4.7,1.2,Iris-versicolor',\n",
       " '6.4,2.9,4.3,1.3,Iris-versicolor',\n",
       " '6.6,3.0,4.4,1.4,Iris-versicolor',\n",
       " '6.8,2.8,4.8,1.4,Iris-versicolor',\n",
       " '6.7,3.0,5.0,1.7,Iris-versicolor',\n",
       " '6.0,2.9,4.5,1.5,Iris-versicolor',\n",
       " '5.7,2.6,3.5,1.0,Iris-versicolor',\n",
       " '5.5,2.4,3.8,1.1,Iris-versicolor',\n",
       " '5.5,2.4,3.7,1.0,Iris-versicolor',\n",
       " '5.8,2.7,3.9,1.2,Iris-versicolor',\n",
       " '6.0,2.7,5.1,1.6,Iris-versicolor',\n",
       " '5.4,3.0,4.5,1.5,Iris-versicolor',\n",
       " '6.0,3.4,4.5,1.6,Iris-versicolor',\n",
       " '6.7,3.1,4.7,1.5,Iris-versicolor',\n",
       " '6.3,2.3,4.4,1.3,Iris-versicolor',\n",
       " '5.6,3.0,4.1,1.3,Iris-versicolor',\n",
       " '5.5,2.5,4.0,1.3,Iris-versicolor',\n",
       " '5.5,2.6,4.4,1.2,Iris-versicolor',\n",
       " '6.1,3.0,4.6,1.4,Iris-versicolor',\n",
       " '5.8,2.6,4.0,1.2,Iris-versicolor',\n",
       " '5.0,2.3,3.3,1.0,Iris-versicolor',\n",
       " '5.6,2.7,4.2,1.3,Iris-versicolor',\n",
       " '5.7,3.0,4.2,1.2,Iris-versicolor',\n",
       " '5.7,2.9,4.2,1.3,Iris-versicolor',\n",
       " '6.2,2.9,4.3,1.3,Iris-versicolor',\n",
       " '5.1,2.5,3.0,1.1,Iris-versicolor',\n",
       " '5.7,2.8,4.1,1.3,Iris-versicolor',\n",
       " '6.3,3.3,6.0,2.5,Iris-virginica',\n",
       " '5.8,2.7,5.1,1.9,Iris-virginica',\n",
       " '7.1,3.0,5.9,2.1,Iris-virginica',\n",
       " '6.3,2.9,5.6,1.8,Iris-virginica',\n",
       " '6.5,3.0,5.8,2.2,Iris-virginica',\n",
       " '7.6,3.0,6.6,2.1,Iris-virginica',\n",
       " '4.9,2.5,4.5,1.7,Iris-virginica',\n",
       " '7.3,2.9,6.3,1.8,Iris-virginica',\n",
       " '6.7,2.5,5.8,1.8,Iris-virginica',\n",
       " '7.2,3.6,6.1,2.5,Iris-virginica',\n",
       " '6.5,3.2,5.1,2.0,Iris-virginica',\n",
       " '6.4,2.7,5.3,1.9,Iris-virginica',\n",
       " '6.8,3.0,5.5,2.1,Iris-virginica',\n",
       " '5.7,2.5,5.0,2.0,Iris-virginica',\n",
       " '5.8,2.8,5.1,2.4,Iris-virginica',\n",
       " '6.4,3.2,5.3,2.3,Iris-virginica',\n",
       " '6.5,3.0,5.5,1.8,Iris-virginica',\n",
       " '7.7,3.8,6.7,2.2,Iris-virginica',\n",
       " '7.7,2.6,6.9,2.3,Iris-virginica',\n",
       " '6.0,2.2,5.0,1.5,Iris-virginica',\n",
       " '6.9,3.2,5.7,2.3,Iris-virginica',\n",
       " '5.6,2.8,4.9,2.0,Iris-virginica',\n",
       " '7.7,2.8,6.7,2.0,Iris-virginica',\n",
       " '6.3,2.7,4.9,1.8,Iris-virginica',\n",
       " '6.7,3.3,5.7,2.1,Iris-virginica',\n",
       " '7.2,3.2,6.0,1.8,Iris-virginica',\n",
       " '6.2,2.8,4.8,1.8,Iris-virginica',\n",
       " '6.1,3.0,4.9,1.8,Iris-virginica',\n",
       " '6.4,2.8,5.6,2.1,Iris-virginica',\n",
       " '7.2,3.0,5.8,1.6,Iris-virginica',\n",
       " '7.4,2.8,6.1,1.9,Iris-virginica',\n",
       " '7.9,3.8,6.4,2.0,Iris-virginica',\n",
       " '6.4,2.8,5.6,2.2,Iris-virginica',\n",
       " '6.3,2.8,5.1,1.5,Iris-virginica',\n",
       " '6.1,2.6,5.6,1.4,Iris-virginica',\n",
       " '7.7,3.0,6.1,2.3,Iris-virginica',\n",
       " '6.3,3.4,5.6,2.4,Iris-virginica',\n",
       " '6.4,3.1,5.5,1.8,Iris-virginica',\n",
       " '6.0,3.0,4.8,1.8,Iris-virginica',\n",
       " '6.9,3.1,5.4,2.1,Iris-virginica',\n",
       " '6.7,3.1,5.6,2.4,Iris-virginica',\n",
       " '6.9,3.1,5.1,2.3,Iris-virginica',\n",
       " '5.8,2.7,5.1,1.9,Iris-virginica',\n",
       " '6.8,3.2,5.9,2.3,Iris-virginica',\n",
       " '6.7,3.3,5.7,2.5,Iris-virginica',\n",
       " '6.7,3.0,5.2,2.3,Iris-virginica',\n",
       " '6.3,2.5,5.0,1.9,Iris-virginica',\n",
       " '6.5,3.0,5.2,2.0,Iris-virginica',\n",
       " '6.2,3.4,5.4,2.3,Iris-virginica',\n",
       " '5.9,3.0,5.1,1.8,Iris-virginica',\n",
       " '']"
      ]
     },
     "execution_count": 120,
     "metadata": {},
     "output_type": "execute_result"
    }
   ],
   "source": [
    "# https://stackoverflow.com/a/1393367\n",
    "# Getting the Iris dataset\n",
    "\n",
    "import urllib.request\n",
    "\n",
    "url = r'https://archive.ics.uci.edu/ml/machine-learning-databases/iris/iris.data'\n",
    "\n",
    "iris = [line.decode('utf-8').strip() for line in urllib.request.urlopen(url)]\n",
    "\n",
    "iris"
   ]
  },
  {
   "cell_type": "code",
   "execution_count": 125,
   "id": "044dec6f",
   "metadata": {},
   "outputs": [],
   "source": [
    "strip_iris = re.compile(r'Iris-([a-z]+)')"
   ]
  },
  {
   "cell_type": "code",
   "execution_count": 126,
   "id": "2373d52a",
   "metadata": {},
   "outputs": [
    {
     "data": {
      "text/plain": [
       "['5.1,3.5,1.4,0.2,setosa',\n",
       " '4.9,3.0,1.4,0.2,setosa',\n",
       " '4.7,3.2,1.3,0.2,setosa',\n",
       " '4.6,3.1,1.5,0.2,setosa',\n",
       " '5.0,3.6,1.4,0.2,setosa',\n",
       " '5.4,3.9,1.7,0.4,setosa',\n",
       " '4.6,3.4,1.4,0.3,setosa',\n",
       " '5.0,3.4,1.5,0.2,setosa',\n",
       " '4.4,2.9,1.4,0.2,setosa',\n",
       " '4.9,3.1,1.5,0.1,setosa',\n",
       " '5.4,3.7,1.5,0.2,setosa',\n",
       " '4.8,3.4,1.6,0.2,setosa',\n",
       " '4.8,3.0,1.4,0.1,setosa',\n",
       " '4.3,3.0,1.1,0.1,setosa',\n",
       " '5.8,4.0,1.2,0.2,setosa',\n",
       " '5.7,4.4,1.5,0.4,setosa',\n",
       " '5.4,3.9,1.3,0.4,setosa',\n",
       " '5.1,3.5,1.4,0.3,setosa',\n",
       " '5.7,3.8,1.7,0.3,setosa',\n",
       " '5.1,3.8,1.5,0.3,setosa',\n",
       " '5.4,3.4,1.7,0.2,setosa',\n",
       " '5.1,3.7,1.5,0.4,setosa',\n",
       " '4.6,3.6,1.0,0.2,setosa',\n",
       " '5.1,3.3,1.7,0.5,setosa',\n",
       " '4.8,3.4,1.9,0.2,setosa',\n",
       " '5.0,3.0,1.6,0.2,setosa',\n",
       " '5.0,3.4,1.6,0.4,setosa',\n",
       " '5.2,3.5,1.5,0.2,setosa',\n",
       " '5.2,3.4,1.4,0.2,setosa',\n",
       " '4.7,3.2,1.6,0.2,setosa',\n",
       " '4.8,3.1,1.6,0.2,setosa',\n",
       " '5.4,3.4,1.5,0.4,setosa',\n",
       " '5.2,4.1,1.5,0.1,setosa',\n",
       " '5.5,4.2,1.4,0.2,setosa',\n",
       " '4.9,3.1,1.5,0.1,setosa',\n",
       " '5.0,3.2,1.2,0.2,setosa',\n",
       " '5.5,3.5,1.3,0.2,setosa',\n",
       " '4.9,3.1,1.5,0.1,setosa',\n",
       " '4.4,3.0,1.3,0.2,setosa',\n",
       " '5.1,3.4,1.5,0.2,setosa',\n",
       " '5.0,3.5,1.3,0.3,setosa',\n",
       " '4.5,2.3,1.3,0.3,setosa',\n",
       " '4.4,3.2,1.3,0.2,setosa',\n",
       " '5.0,3.5,1.6,0.6,setosa',\n",
       " '5.1,3.8,1.9,0.4,setosa',\n",
       " '4.8,3.0,1.4,0.3,setosa',\n",
       " '5.1,3.8,1.6,0.2,setosa',\n",
       " '4.6,3.2,1.4,0.2,setosa',\n",
       " '5.3,3.7,1.5,0.2,setosa',\n",
       " '5.0,3.3,1.4,0.2,setosa',\n",
       " '7.0,3.2,4.7,1.4,versicolor',\n",
       " '6.4,3.2,4.5,1.5,versicolor',\n",
       " '6.9,3.1,4.9,1.5,versicolor',\n",
       " '5.5,2.3,4.0,1.3,versicolor',\n",
       " '6.5,2.8,4.6,1.5,versicolor',\n",
       " '5.7,2.8,4.5,1.3,versicolor',\n",
       " '6.3,3.3,4.7,1.6,versicolor',\n",
       " '4.9,2.4,3.3,1.0,versicolor',\n",
       " '6.6,2.9,4.6,1.3,versicolor',\n",
       " '5.2,2.7,3.9,1.4,versicolor',\n",
       " '5.0,2.0,3.5,1.0,versicolor',\n",
       " '5.9,3.0,4.2,1.5,versicolor',\n",
       " '6.0,2.2,4.0,1.0,versicolor',\n",
       " '6.1,2.9,4.7,1.4,versicolor',\n",
       " '5.6,2.9,3.6,1.3,versicolor',\n",
       " '6.7,3.1,4.4,1.4,versicolor',\n",
       " '5.6,3.0,4.5,1.5,versicolor',\n",
       " '5.8,2.7,4.1,1.0,versicolor',\n",
       " '6.2,2.2,4.5,1.5,versicolor',\n",
       " '5.6,2.5,3.9,1.1,versicolor',\n",
       " '5.9,3.2,4.8,1.8,versicolor',\n",
       " '6.1,2.8,4.0,1.3,versicolor',\n",
       " '6.3,2.5,4.9,1.5,versicolor',\n",
       " '6.1,2.8,4.7,1.2,versicolor',\n",
       " '6.4,2.9,4.3,1.3,versicolor',\n",
       " '6.6,3.0,4.4,1.4,versicolor',\n",
       " '6.8,2.8,4.8,1.4,versicolor',\n",
       " '6.7,3.0,5.0,1.7,versicolor',\n",
       " '6.0,2.9,4.5,1.5,versicolor',\n",
       " '5.7,2.6,3.5,1.0,versicolor',\n",
       " '5.5,2.4,3.8,1.1,versicolor',\n",
       " '5.5,2.4,3.7,1.0,versicolor',\n",
       " '5.8,2.7,3.9,1.2,versicolor',\n",
       " '6.0,2.7,5.1,1.6,versicolor',\n",
       " '5.4,3.0,4.5,1.5,versicolor',\n",
       " '6.0,3.4,4.5,1.6,versicolor',\n",
       " '6.7,3.1,4.7,1.5,versicolor',\n",
       " '6.3,2.3,4.4,1.3,versicolor',\n",
       " '5.6,3.0,4.1,1.3,versicolor',\n",
       " '5.5,2.5,4.0,1.3,versicolor',\n",
       " '5.5,2.6,4.4,1.2,versicolor',\n",
       " '6.1,3.0,4.6,1.4,versicolor',\n",
       " '5.8,2.6,4.0,1.2,versicolor',\n",
       " '5.0,2.3,3.3,1.0,versicolor',\n",
       " '5.6,2.7,4.2,1.3,versicolor',\n",
       " '5.7,3.0,4.2,1.2,versicolor',\n",
       " '5.7,2.9,4.2,1.3,versicolor',\n",
       " '6.2,2.9,4.3,1.3,versicolor',\n",
       " '5.1,2.5,3.0,1.1,versicolor',\n",
       " '5.7,2.8,4.1,1.3,versicolor',\n",
       " '6.3,3.3,6.0,2.5,virginica',\n",
       " '5.8,2.7,5.1,1.9,virginica',\n",
       " '7.1,3.0,5.9,2.1,virginica',\n",
       " '6.3,2.9,5.6,1.8,virginica',\n",
       " '6.5,3.0,5.8,2.2,virginica',\n",
       " '7.6,3.0,6.6,2.1,virginica',\n",
       " '4.9,2.5,4.5,1.7,virginica',\n",
       " '7.3,2.9,6.3,1.8,virginica',\n",
       " '6.7,2.5,5.8,1.8,virginica',\n",
       " '7.2,3.6,6.1,2.5,virginica',\n",
       " '6.5,3.2,5.1,2.0,virginica',\n",
       " '6.4,2.7,5.3,1.9,virginica',\n",
       " '6.8,3.0,5.5,2.1,virginica',\n",
       " '5.7,2.5,5.0,2.0,virginica',\n",
       " '5.8,2.8,5.1,2.4,virginica',\n",
       " '6.4,3.2,5.3,2.3,virginica',\n",
       " '6.5,3.0,5.5,1.8,virginica',\n",
       " '7.7,3.8,6.7,2.2,virginica',\n",
       " '7.7,2.6,6.9,2.3,virginica',\n",
       " '6.0,2.2,5.0,1.5,virginica',\n",
       " '6.9,3.2,5.7,2.3,virginica',\n",
       " '5.6,2.8,4.9,2.0,virginica',\n",
       " '7.7,2.8,6.7,2.0,virginica',\n",
       " '6.3,2.7,4.9,1.8,virginica',\n",
       " '6.7,3.3,5.7,2.1,virginica',\n",
       " '7.2,3.2,6.0,1.8,virginica',\n",
       " '6.2,2.8,4.8,1.8,virginica',\n",
       " '6.1,3.0,4.9,1.8,virginica',\n",
       " '6.4,2.8,5.6,2.1,virginica',\n",
       " '7.2,3.0,5.8,1.6,virginica',\n",
       " '7.4,2.8,6.1,1.9,virginica',\n",
       " '7.9,3.8,6.4,2.0,virginica',\n",
       " '6.4,2.8,5.6,2.2,virginica',\n",
       " '6.3,2.8,5.1,1.5,virginica',\n",
       " '6.1,2.6,5.6,1.4,virginica',\n",
       " '7.7,3.0,6.1,2.3,virginica',\n",
       " '6.3,3.4,5.6,2.4,virginica',\n",
       " '6.4,3.1,5.5,1.8,virginica',\n",
       " '6.0,3.0,4.8,1.8,virginica',\n",
       " '6.9,3.1,5.4,2.1,virginica',\n",
       " '6.7,3.1,5.6,2.4,virginica',\n",
       " '6.9,3.1,5.1,2.3,virginica',\n",
       " '5.8,2.7,5.1,1.9,virginica',\n",
       " '6.8,3.2,5.9,2.3,virginica',\n",
       " '6.7,3.3,5.7,2.5,virginica',\n",
       " '6.7,3.0,5.2,2.3,virginica',\n",
       " '6.3,2.5,5.0,1.9,virginica',\n",
       " '6.5,3.0,5.2,2.0,virginica',\n",
       " '6.2,3.4,5.4,2.3,virginica',\n",
       " '5.9,3.0,5.1,1.8,virginica',\n",
       " '']"
      ]
     },
     "execution_count": 126,
     "metadata": {},
     "output_type": "execute_result"
    }
   ],
   "source": [
    "[strip_iris.sub(r'\\1', line) for line in iris]"
   ]
  },
  {
   "cell_type": "code",
   "execution_count": 127,
   "id": "6109d0e7",
   "metadata": {},
   "outputs": [],
   "source": [
    "# Sets up the layout for the data\n",
    "strip_iris = re.compile(r'([0-9]\\.[0-9]),([0-9]\\.[0-9]),([0-9]\\.[0-9]),([0-9]\\.[0-9]),Iris-([a-z]+)')"
   ]
  },
  {
   "cell_type": "code",
   "execution_count": 128,
   "id": "a45f55cb",
   "metadata": {},
   "outputs": [
    {
     "data": {
      "text/plain": [
       "['setosa,0.2,1.4,3.5,5.1',\n",
       " 'setosa,0.2,1.4,3.0,4.9',\n",
       " 'setosa,0.2,1.3,3.2,4.7',\n",
       " 'setosa,0.2,1.5,3.1,4.6',\n",
       " 'setosa,0.2,1.4,3.6,5.0',\n",
       " 'setosa,0.4,1.7,3.9,5.4',\n",
       " 'setosa,0.3,1.4,3.4,4.6',\n",
       " 'setosa,0.2,1.5,3.4,5.0',\n",
       " 'setosa,0.2,1.4,2.9,4.4',\n",
       " 'setosa,0.1,1.5,3.1,4.9',\n",
       " 'setosa,0.2,1.5,3.7,5.4',\n",
       " 'setosa,0.2,1.6,3.4,4.8',\n",
       " 'setosa,0.1,1.4,3.0,4.8',\n",
       " 'setosa,0.1,1.1,3.0,4.3',\n",
       " 'setosa,0.2,1.2,4.0,5.8',\n",
       " 'setosa,0.4,1.5,4.4,5.7',\n",
       " 'setosa,0.4,1.3,3.9,5.4',\n",
       " 'setosa,0.3,1.4,3.5,5.1',\n",
       " 'setosa,0.3,1.7,3.8,5.7',\n",
       " 'setosa,0.3,1.5,3.8,5.1',\n",
       " 'setosa,0.2,1.7,3.4,5.4',\n",
       " 'setosa,0.4,1.5,3.7,5.1',\n",
       " 'setosa,0.2,1.0,3.6,4.6',\n",
       " 'setosa,0.5,1.7,3.3,5.1',\n",
       " 'setosa,0.2,1.9,3.4,4.8',\n",
       " 'setosa,0.2,1.6,3.0,5.0',\n",
       " 'setosa,0.4,1.6,3.4,5.0',\n",
       " 'setosa,0.2,1.5,3.5,5.2',\n",
       " 'setosa,0.2,1.4,3.4,5.2',\n",
       " 'setosa,0.2,1.6,3.2,4.7',\n",
       " 'setosa,0.2,1.6,3.1,4.8',\n",
       " 'setosa,0.4,1.5,3.4,5.4',\n",
       " 'setosa,0.1,1.5,4.1,5.2',\n",
       " 'setosa,0.2,1.4,4.2,5.5',\n",
       " 'setosa,0.1,1.5,3.1,4.9',\n",
       " 'setosa,0.2,1.2,3.2,5.0',\n",
       " 'setosa,0.2,1.3,3.5,5.5',\n",
       " 'setosa,0.1,1.5,3.1,4.9',\n",
       " 'setosa,0.2,1.3,3.0,4.4',\n",
       " 'setosa,0.2,1.5,3.4,5.1',\n",
       " 'setosa,0.3,1.3,3.5,5.0',\n",
       " 'setosa,0.3,1.3,2.3,4.5',\n",
       " 'setosa,0.2,1.3,3.2,4.4',\n",
       " 'setosa,0.6,1.6,3.5,5.0',\n",
       " 'setosa,0.4,1.9,3.8,5.1',\n",
       " 'setosa,0.3,1.4,3.0,4.8',\n",
       " 'setosa,0.2,1.6,3.8,5.1',\n",
       " 'setosa,0.2,1.4,3.2,4.6',\n",
       " 'setosa,0.2,1.5,3.7,5.3',\n",
       " 'setosa,0.2,1.4,3.3,5.0',\n",
       " 'versicolor,1.4,4.7,3.2,7.0',\n",
       " 'versicolor,1.5,4.5,3.2,6.4',\n",
       " 'versicolor,1.5,4.9,3.1,6.9',\n",
       " 'versicolor,1.3,4.0,2.3,5.5',\n",
       " 'versicolor,1.5,4.6,2.8,6.5',\n",
       " 'versicolor,1.3,4.5,2.8,5.7',\n",
       " 'versicolor,1.6,4.7,3.3,6.3',\n",
       " 'versicolor,1.0,3.3,2.4,4.9',\n",
       " 'versicolor,1.3,4.6,2.9,6.6',\n",
       " 'versicolor,1.4,3.9,2.7,5.2',\n",
       " 'versicolor,1.0,3.5,2.0,5.0',\n",
       " 'versicolor,1.5,4.2,3.0,5.9',\n",
       " 'versicolor,1.0,4.0,2.2,6.0',\n",
       " 'versicolor,1.4,4.7,2.9,6.1',\n",
       " 'versicolor,1.3,3.6,2.9,5.6',\n",
       " 'versicolor,1.4,4.4,3.1,6.7',\n",
       " 'versicolor,1.5,4.5,3.0,5.6',\n",
       " 'versicolor,1.0,4.1,2.7,5.8',\n",
       " 'versicolor,1.5,4.5,2.2,6.2',\n",
       " 'versicolor,1.1,3.9,2.5,5.6',\n",
       " 'versicolor,1.8,4.8,3.2,5.9',\n",
       " 'versicolor,1.3,4.0,2.8,6.1',\n",
       " 'versicolor,1.5,4.9,2.5,6.3',\n",
       " 'versicolor,1.2,4.7,2.8,6.1',\n",
       " 'versicolor,1.3,4.3,2.9,6.4',\n",
       " 'versicolor,1.4,4.4,3.0,6.6',\n",
       " 'versicolor,1.4,4.8,2.8,6.8',\n",
       " 'versicolor,1.7,5.0,3.0,6.7',\n",
       " 'versicolor,1.5,4.5,2.9,6.0',\n",
       " 'versicolor,1.0,3.5,2.6,5.7',\n",
       " 'versicolor,1.1,3.8,2.4,5.5',\n",
       " 'versicolor,1.0,3.7,2.4,5.5',\n",
       " 'versicolor,1.2,3.9,2.7,5.8',\n",
       " 'versicolor,1.6,5.1,2.7,6.0',\n",
       " 'versicolor,1.5,4.5,3.0,5.4',\n",
       " 'versicolor,1.6,4.5,3.4,6.0',\n",
       " 'versicolor,1.5,4.7,3.1,6.7',\n",
       " 'versicolor,1.3,4.4,2.3,6.3',\n",
       " 'versicolor,1.3,4.1,3.0,5.6',\n",
       " 'versicolor,1.3,4.0,2.5,5.5',\n",
       " 'versicolor,1.2,4.4,2.6,5.5',\n",
       " 'versicolor,1.4,4.6,3.0,6.1',\n",
       " 'versicolor,1.2,4.0,2.6,5.8',\n",
       " 'versicolor,1.0,3.3,2.3,5.0',\n",
       " 'versicolor,1.3,4.2,2.7,5.6',\n",
       " 'versicolor,1.2,4.2,3.0,5.7',\n",
       " 'versicolor,1.3,4.2,2.9,5.7',\n",
       " 'versicolor,1.3,4.3,2.9,6.2',\n",
       " 'versicolor,1.1,3.0,2.5,5.1',\n",
       " 'versicolor,1.3,4.1,2.8,5.7',\n",
       " 'virginica,2.5,6.0,3.3,6.3',\n",
       " 'virginica,1.9,5.1,2.7,5.8',\n",
       " 'virginica,2.1,5.9,3.0,7.1',\n",
       " 'virginica,1.8,5.6,2.9,6.3',\n",
       " 'virginica,2.2,5.8,3.0,6.5',\n",
       " 'virginica,2.1,6.6,3.0,7.6',\n",
       " 'virginica,1.7,4.5,2.5,4.9',\n",
       " 'virginica,1.8,6.3,2.9,7.3',\n",
       " 'virginica,1.8,5.8,2.5,6.7',\n",
       " 'virginica,2.5,6.1,3.6,7.2',\n",
       " 'virginica,2.0,5.1,3.2,6.5',\n",
       " 'virginica,1.9,5.3,2.7,6.4',\n",
       " 'virginica,2.1,5.5,3.0,6.8',\n",
       " 'virginica,2.0,5.0,2.5,5.7',\n",
       " 'virginica,2.4,5.1,2.8,5.8',\n",
       " 'virginica,2.3,5.3,3.2,6.4',\n",
       " 'virginica,1.8,5.5,3.0,6.5',\n",
       " 'virginica,2.2,6.7,3.8,7.7',\n",
       " 'virginica,2.3,6.9,2.6,7.7',\n",
       " 'virginica,1.5,5.0,2.2,6.0',\n",
       " 'virginica,2.3,5.7,3.2,6.9',\n",
       " 'virginica,2.0,4.9,2.8,5.6',\n",
       " 'virginica,2.0,6.7,2.8,7.7',\n",
       " 'virginica,1.8,4.9,2.7,6.3',\n",
       " 'virginica,2.1,5.7,3.3,6.7',\n",
       " 'virginica,1.8,6.0,3.2,7.2',\n",
       " 'virginica,1.8,4.8,2.8,6.2',\n",
       " 'virginica,1.8,4.9,3.0,6.1',\n",
       " 'virginica,2.1,5.6,2.8,6.4',\n",
       " 'virginica,1.6,5.8,3.0,7.2',\n",
       " 'virginica,1.9,6.1,2.8,7.4',\n",
       " 'virginica,2.0,6.4,3.8,7.9',\n",
       " 'virginica,2.2,5.6,2.8,6.4',\n",
       " 'virginica,1.5,5.1,2.8,6.3',\n",
       " 'virginica,1.4,5.6,2.6,6.1',\n",
       " 'virginica,2.3,6.1,3.0,7.7',\n",
       " 'virginica,2.4,5.6,3.4,6.3',\n",
       " 'virginica,1.8,5.5,3.1,6.4',\n",
       " 'virginica,1.8,4.8,3.0,6.0',\n",
       " 'virginica,2.1,5.4,3.1,6.9',\n",
       " 'virginica,2.4,5.6,3.1,6.7',\n",
       " 'virginica,2.3,5.1,3.1,6.9',\n",
       " 'virginica,1.9,5.1,2.7,5.8',\n",
       " 'virginica,2.3,5.9,3.2,6.8',\n",
       " 'virginica,2.5,5.7,3.3,6.7',\n",
       " 'virginica,2.3,5.2,3.0,6.7',\n",
       " 'virginica,1.9,5.0,2.5,6.3',\n",
       " 'virginica,2.0,5.2,3.0,6.5',\n",
       " 'virginica,2.3,5.4,3.4,6.2',\n",
       " 'virginica,1.8,5.1,3.0,5.9']"
      ]
     },
     "execution_count": 128,
     "metadata": {},
     "output_type": "execute_result"
    }
   ],
   "source": [
    "# Reverses the order of the column and based on above removes 'Iris-' from the names of the flowers.\n",
    "[strip_iris.sub(r'\\5,\\4,\\3,\\2,\\1', line) for line in iris if line]"
   ]
  },
  {
   "cell_type": "code",
   "execution_count": 130,
   "id": "ada9ae3f",
   "metadata": {},
   "outputs": [
    {
     "data": {
      "text/plain": [
       "[b'5.1,3.5,1.4,0.2,Iris-setosa\\n',\n",
       " b'4.9,3.0,1.4,0.2,Iris-setosa\\n',\n",
       " b'4.7,3.2,1.3,0.2,Iris-setosa\\n',\n",
       " b'4.6,3.1,1.5,0.2,Iris-setosa\\n',\n",
       " b'5.0,3.6,1.4,0.2,Iris-setosa\\n',\n",
       " b'5.4,3.9,1.7,0.4,Iris-setosa\\n',\n",
       " b'4.6,3.4,1.4,0.3,Iris-setosa\\n',\n",
       " b'5.0,3.4,1.5,0.2,Iris-setosa\\n',\n",
       " b'4.4,2.9,1.4,0.2,Iris-setosa\\n',\n",
       " b'4.9,3.1,1.5,0.1,Iris-setosa\\n',\n",
       " b'5.4,3.7,1.5,0.2,Iris-setosa\\n',\n",
       " b'4.8,3.4,1.6,0.2,Iris-setosa\\n',\n",
       " b'4.8,3.0,1.4,0.1,Iris-setosa\\n',\n",
       " b'4.3,3.0,1.1,0.1,Iris-setosa\\n',\n",
       " b'5.8,4.0,1.2,0.2,Iris-setosa\\n',\n",
       " b'5.7,4.4,1.5,0.4,Iris-setosa\\n',\n",
       " b'5.4,3.9,1.3,0.4,Iris-setosa\\n',\n",
       " b'5.1,3.5,1.4,0.3,Iris-setosa\\n',\n",
       " b'5.7,3.8,1.7,0.3,Iris-setosa\\n',\n",
       " b'5.1,3.8,1.5,0.3,Iris-setosa\\n',\n",
       " b'5.4,3.4,1.7,0.2,Iris-setosa\\n',\n",
       " b'5.1,3.7,1.5,0.4,Iris-setosa\\n',\n",
       " b'4.6,3.6,1.0,0.2,Iris-setosa\\n',\n",
       " b'5.1,3.3,1.7,0.5,Iris-setosa\\n',\n",
       " b'4.8,3.4,1.9,0.2,Iris-setosa\\n',\n",
       " b'5.0,3.0,1.6,0.2,Iris-setosa\\n',\n",
       " b'5.0,3.4,1.6,0.4,Iris-setosa\\n',\n",
       " b'5.2,3.5,1.5,0.2,Iris-setosa\\n',\n",
       " b'5.2,3.4,1.4,0.2,Iris-setosa\\n',\n",
       " b'4.7,3.2,1.6,0.2,Iris-setosa\\n',\n",
       " b'4.8,3.1,1.6,0.2,Iris-setosa\\n',\n",
       " b'5.4,3.4,1.5,0.4,Iris-setosa\\n',\n",
       " b'5.2,4.1,1.5,0.1,Iris-setosa\\n',\n",
       " b'5.5,4.2,1.4,0.2,Iris-setosa\\n',\n",
       " b'4.9,3.1,1.5,0.1,Iris-setosa\\n',\n",
       " b'5.0,3.2,1.2,0.2,Iris-setosa\\n',\n",
       " b'5.5,3.5,1.3,0.2,Iris-setosa\\n',\n",
       " b'4.9,3.1,1.5,0.1,Iris-setosa\\n',\n",
       " b'4.4,3.0,1.3,0.2,Iris-setosa\\n',\n",
       " b'5.1,3.4,1.5,0.2,Iris-setosa\\n',\n",
       " b'5.0,3.5,1.3,0.3,Iris-setosa\\n',\n",
       " b'4.5,2.3,1.3,0.3,Iris-setosa\\n',\n",
       " b'4.4,3.2,1.3,0.2,Iris-setosa\\n',\n",
       " b'5.0,3.5,1.6,0.6,Iris-setosa\\n',\n",
       " b'5.1,3.8,1.9,0.4,Iris-setosa\\n',\n",
       " b'4.8,3.0,1.4,0.3,Iris-setosa\\n',\n",
       " b'5.1,3.8,1.6,0.2,Iris-setosa\\n',\n",
       " b'4.6,3.2,1.4,0.2,Iris-setosa\\n',\n",
       " b'5.3,3.7,1.5,0.2,Iris-setosa\\n',\n",
       " b'5.0,3.3,1.4,0.2,Iris-setosa\\n',\n",
       " b'7.0,3.2,4.7,1.4,Iris-versicolor\\n',\n",
       " b'6.4,3.2,4.5,1.5,Iris-versicolor\\n',\n",
       " b'6.9,3.1,4.9,1.5,Iris-versicolor\\n',\n",
       " b'5.5,2.3,4.0,1.3,Iris-versicolor\\n',\n",
       " b'6.5,2.8,4.6,1.5,Iris-versicolor\\n',\n",
       " b'5.7,2.8,4.5,1.3,Iris-versicolor\\n',\n",
       " b'6.3,3.3,4.7,1.6,Iris-versicolor\\n',\n",
       " b'4.9,2.4,3.3,1.0,Iris-versicolor\\n',\n",
       " b'6.6,2.9,4.6,1.3,Iris-versicolor\\n',\n",
       " b'5.2,2.7,3.9,1.4,Iris-versicolor\\n',\n",
       " b'5.0,2.0,3.5,1.0,Iris-versicolor\\n',\n",
       " b'5.9,3.0,4.2,1.5,Iris-versicolor\\n',\n",
       " b'6.0,2.2,4.0,1.0,Iris-versicolor\\n',\n",
       " b'6.1,2.9,4.7,1.4,Iris-versicolor\\n',\n",
       " b'5.6,2.9,3.6,1.3,Iris-versicolor\\n',\n",
       " b'6.7,3.1,4.4,1.4,Iris-versicolor\\n',\n",
       " b'5.6,3.0,4.5,1.5,Iris-versicolor\\n',\n",
       " b'5.8,2.7,4.1,1.0,Iris-versicolor\\n',\n",
       " b'6.2,2.2,4.5,1.5,Iris-versicolor\\n',\n",
       " b'5.6,2.5,3.9,1.1,Iris-versicolor\\n',\n",
       " b'5.9,3.2,4.8,1.8,Iris-versicolor\\n',\n",
       " b'6.1,2.8,4.0,1.3,Iris-versicolor\\n',\n",
       " b'6.3,2.5,4.9,1.5,Iris-versicolor\\n',\n",
       " b'6.1,2.8,4.7,1.2,Iris-versicolor\\n',\n",
       " b'6.4,2.9,4.3,1.3,Iris-versicolor\\n',\n",
       " b'6.6,3.0,4.4,1.4,Iris-versicolor\\n',\n",
       " b'6.8,2.8,4.8,1.4,Iris-versicolor\\n',\n",
       " b'6.7,3.0,5.0,1.7,Iris-versicolor\\n',\n",
       " b'6.0,2.9,4.5,1.5,Iris-versicolor\\n',\n",
       " b'5.7,2.6,3.5,1.0,Iris-versicolor\\n',\n",
       " b'5.5,2.4,3.8,1.1,Iris-versicolor\\n',\n",
       " b'5.5,2.4,3.7,1.0,Iris-versicolor\\n',\n",
       " b'5.8,2.7,3.9,1.2,Iris-versicolor\\n',\n",
       " b'6.0,2.7,5.1,1.6,Iris-versicolor\\n',\n",
       " b'5.4,3.0,4.5,1.5,Iris-versicolor\\n',\n",
       " b'6.0,3.4,4.5,1.6,Iris-versicolor\\n',\n",
       " b'6.7,3.1,4.7,1.5,Iris-versicolor\\n',\n",
       " b'6.3,2.3,4.4,1.3,Iris-versicolor\\n',\n",
       " b'5.6,3.0,4.1,1.3,Iris-versicolor\\n',\n",
       " b'5.5,2.5,4.0,1.3,Iris-versicolor\\n',\n",
       " b'5.5,2.6,4.4,1.2,Iris-versicolor\\n',\n",
       " b'6.1,3.0,4.6,1.4,Iris-versicolor\\n',\n",
       " b'5.8,2.6,4.0,1.2,Iris-versicolor\\n',\n",
       " b'5.0,2.3,3.3,1.0,Iris-versicolor\\n',\n",
       " b'5.6,2.7,4.2,1.3,Iris-versicolor\\n',\n",
       " b'5.7,3.0,4.2,1.2,Iris-versicolor\\n',\n",
       " b'5.7,2.9,4.2,1.3,Iris-versicolor\\n',\n",
       " b'6.2,2.9,4.3,1.3,Iris-versicolor\\n',\n",
       " b'5.1,2.5,3.0,1.1,Iris-versicolor\\n',\n",
       " b'5.7,2.8,4.1,1.3,Iris-versicolor\\n',\n",
       " b'6.3,3.3,6.0,2.5,Iris-virginica\\n',\n",
       " b'5.8,2.7,5.1,1.9,Iris-virginica\\n',\n",
       " b'7.1,3.0,5.9,2.1,Iris-virginica\\n',\n",
       " b'6.3,2.9,5.6,1.8,Iris-virginica\\n',\n",
       " b'6.5,3.0,5.8,2.2,Iris-virginica\\n',\n",
       " b'7.6,3.0,6.6,2.1,Iris-virginica\\n',\n",
       " b'4.9,2.5,4.5,1.7,Iris-virginica\\n',\n",
       " b'7.3,2.9,6.3,1.8,Iris-virginica\\n',\n",
       " b'6.7,2.5,5.8,1.8,Iris-virginica\\n',\n",
       " b'7.2,3.6,6.1,2.5,Iris-virginica\\n',\n",
       " b'6.5,3.2,5.1,2.0,Iris-virginica\\n',\n",
       " b'6.4,2.7,5.3,1.9,Iris-virginica\\n',\n",
       " b'6.8,3.0,5.5,2.1,Iris-virginica\\n',\n",
       " b'5.7,2.5,5.0,2.0,Iris-virginica\\n',\n",
       " b'5.8,2.8,5.1,2.4,Iris-virginica\\n',\n",
       " b'6.4,3.2,5.3,2.3,Iris-virginica\\n',\n",
       " b'6.5,3.0,5.5,1.8,Iris-virginica\\n',\n",
       " b'7.7,3.8,6.7,2.2,Iris-virginica\\n',\n",
       " b'7.7,2.6,6.9,2.3,Iris-virginica\\n',\n",
       " b'6.0,2.2,5.0,1.5,Iris-virginica\\n',\n",
       " b'6.9,3.2,5.7,2.3,Iris-virginica\\n',\n",
       " b'5.6,2.8,4.9,2.0,Iris-virginica\\n',\n",
       " b'7.7,2.8,6.7,2.0,Iris-virginica\\n',\n",
       " b'6.3,2.7,4.9,1.8,Iris-virginica\\n',\n",
       " b'6.7,3.3,5.7,2.1,Iris-virginica\\n',\n",
       " b'7.2,3.2,6.0,1.8,Iris-virginica\\n',\n",
       " b'6.2,2.8,4.8,1.8,Iris-virginica\\n',\n",
       " b'6.1,3.0,4.9,1.8,Iris-virginica\\n',\n",
       " b'6.4,2.8,5.6,2.1,Iris-virginica\\n',\n",
       " b'7.2,3.0,5.8,1.6,Iris-virginica\\n',\n",
       " b'7.4,2.8,6.1,1.9,Iris-virginica\\n',\n",
       " b'7.9,3.8,6.4,2.0,Iris-virginica\\n',\n",
       " b'6.4,2.8,5.6,2.2,Iris-virginica\\n',\n",
       " b'6.3,2.8,5.1,1.5,Iris-virginica\\n',\n",
       " b'6.1,2.6,5.6,1.4,Iris-virginica\\n',\n",
       " b'7.7,3.0,6.1,2.3,Iris-virginica\\n',\n",
       " b'6.3,3.4,5.6,2.4,Iris-virginica\\n',\n",
       " b'6.4,3.1,5.5,1.8,Iris-virginica\\n',\n",
       " b'6.0,3.0,4.8,1.8,Iris-virginica\\n',\n",
       " b'6.9,3.1,5.4,2.1,Iris-virginica\\n',\n",
       " b'6.7,3.1,5.6,2.4,Iris-virginica\\n',\n",
       " b'6.9,3.1,5.1,2.3,Iris-virginica\\n',\n",
       " b'5.8,2.7,5.1,1.9,Iris-virginica\\n',\n",
       " b'6.8,3.2,5.9,2.3,Iris-virginica\\n',\n",
       " b'6.7,3.3,5.7,2.5,Iris-virginica\\n',\n",
       " b'6.7,3.0,5.2,2.3,Iris-virginica\\n',\n",
       " b'6.3,2.5,5.0,1.9,Iris-virginica\\n',\n",
       " b'6.5,3.0,5.2,2.0,Iris-virginica\\n',\n",
       " b'6.2,3.4,5.4,2.3,Iris-virginica\\n',\n",
       " b'5.9,3.0,5.1,1.8,Iris-virginica\\n',\n",
       " b'\\n']"
      ]
     },
     "execution_count": 130,
     "metadata": {},
     "output_type": "execute_result"
    }
   ],
   "source": [
    "# Get the Iris dataset in a list without stripping off metadata.\n",
    "\n",
    "import urllib.request\n",
    "\n",
    "url = r'https://archive.ics.uci.edu/ml/machine-learning-databases/iris/iris.data'\n",
    "\n",
    "iris = list(urllib.request.urlopen(url))\n",
    "iris"
   ]
  },
  {
   "cell_type": "markdown",
   "id": "5881f2db",
   "metadata": {},
   "source": [
    "## Exercise 2\n",
    "---\n",
    "\n",
    "Adapt the above code to capitalise the first letter of the iris species, using regular expressions.\n",
    "\n",
    "---"
   ]
  },
  {
   "cell_type": "code",
   "execution_count": 135,
   "id": "312773b7",
   "metadata": {},
   "outputs": [],
   "source": [
    "# Get the Iris dataset again to have a fresh set of data removing the meta-data.\n",
    "\n",
    "import urllib.request\n",
    "\n",
    "url = r'https://archive.ics.uci.edu/ml/machine-learning-databases/iris/iris.data'\n",
    "\n",
    "iris = [line.decode('utf-8').strip() for line in urllib.request.urlopen(url)]"
   ]
  },
  {
   "cell_type": "code",
   "execution_count": 136,
   "id": "e2bdaa9f",
   "metadata": {},
   "outputs": [],
   "source": [
    "# Sets up the pattern for the data\n",
    "#strip_iris = re.compile(r'([0-9]\\.[0-9]),([0-9]\\.[0-9]),([0-9]\\.[0-9]),([0-9]\\.[0-9]),Iris-([a-z]+)')\n",
    "strip_iris = re.compile(r'([0-9]\\.[0-9]),([0-9]\\.[0-9]),([0-9]\\.[0-9]),([0-9]\\.[0-9]),Iris-([a-z]+)')\n"
   ]
  },
  {
   "cell_type": "code",
   "execution_count": 138,
   "id": "ffdeb022",
   "metadata": {},
   "outputs": [
    {
     "data": {
      "text/plain": [
       "['setosa:0.2:1.4:3.5:5.1',\n",
       " 'setosa:0.2:1.4:3.0:4.9',\n",
       " 'setosa:0.2:1.3:3.2:4.7',\n",
       " 'setosa:0.2:1.5:3.1:4.6',\n",
       " 'setosa:0.2:1.4:3.6:5.0',\n",
       " 'setosa:0.4:1.7:3.9:5.4',\n",
       " 'setosa:0.3:1.4:3.4:4.6',\n",
       " 'setosa:0.2:1.5:3.4:5.0',\n",
       " 'setosa:0.2:1.4:2.9:4.4',\n",
       " 'setosa:0.1:1.5:3.1:4.9',\n",
       " 'setosa:0.2:1.5:3.7:5.4',\n",
       " 'setosa:0.2:1.6:3.4:4.8',\n",
       " 'setosa:0.1:1.4:3.0:4.8',\n",
       " 'setosa:0.1:1.1:3.0:4.3',\n",
       " 'setosa:0.2:1.2:4.0:5.8',\n",
       " 'setosa:0.4:1.5:4.4:5.7',\n",
       " 'setosa:0.4:1.3:3.9:5.4',\n",
       " 'setosa:0.3:1.4:3.5:5.1',\n",
       " 'setosa:0.3:1.7:3.8:5.7',\n",
       " 'setosa:0.3:1.5:3.8:5.1',\n",
       " 'setosa:0.2:1.7:3.4:5.4',\n",
       " 'setosa:0.4:1.5:3.7:5.1',\n",
       " 'setosa:0.2:1.0:3.6:4.6',\n",
       " 'setosa:0.5:1.7:3.3:5.1',\n",
       " 'setosa:0.2:1.9:3.4:4.8',\n",
       " 'setosa:0.2:1.6:3.0:5.0',\n",
       " 'setosa:0.4:1.6:3.4:5.0',\n",
       " 'setosa:0.2:1.5:3.5:5.2',\n",
       " 'setosa:0.2:1.4:3.4:5.2',\n",
       " 'setosa:0.2:1.6:3.2:4.7',\n",
       " 'setosa:0.2:1.6:3.1:4.8',\n",
       " 'setosa:0.4:1.5:3.4:5.4',\n",
       " 'setosa:0.1:1.5:4.1:5.2',\n",
       " 'setosa:0.2:1.4:4.2:5.5',\n",
       " 'setosa:0.1:1.5:3.1:4.9',\n",
       " 'setosa:0.2:1.2:3.2:5.0',\n",
       " 'setosa:0.2:1.3:3.5:5.5',\n",
       " 'setosa:0.1:1.5:3.1:4.9',\n",
       " 'setosa:0.2:1.3:3.0:4.4',\n",
       " 'setosa:0.2:1.5:3.4:5.1',\n",
       " 'setosa:0.3:1.3:3.5:5.0',\n",
       " 'setosa:0.3:1.3:2.3:4.5',\n",
       " 'setosa:0.2:1.3:3.2:4.4',\n",
       " 'setosa:0.6:1.6:3.5:5.0',\n",
       " 'setosa:0.4:1.9:3.8:5.1',\n",
       " 'setosa:0.3:1.4:3.0:4.8',\n",
       " 'setosa:0.2:1.6:3.8:5.1',\n",
       " 'setosa:0.2:1.4:3.2:4.6',\n",
       " 'setosa:0.2:1.5:3.7:5.3',\n",
       " 'setosa:0.2:1.4:3.3:5.0',\n",
       " 'versicolor:1.4:4.7:3.2:7.0',\n",
       " 'versicolor:1.5:4.5:3.2:6.4',\n",
       " 'versicolor:1.5:4.9:3.1:6.9',\n",
       " 'versicolor:1.3:4.0:2.3:5.5',\n",
       " 'versicolor:1.5:4.6:2.8:6.5',\n",
       " 'versicolor:1.3:4.5:2.8:5.7',\n",
       " 'versicolor:1.6:4.7:3.3:6.3',\n",
       " 'versicolor:1.0:3.3:2.4:4.9',\n",
       " 'versicolor:1.3:4.6:2.9:6.6',\n",
       " 'versicolor:1.4:3.9:2.7:5.2',\n",
       " 'versicolor:1.0:3.5:2.0:5.0',\n",
       " 'versicolor:1.5:4.2:3.0:5.9',\n",
       " 'versicolor:1.0:4.0:2.2:6.0',\n",
       " 'versicolor:1.4:4.7:2.9:6.1',\n",
       " 'versicolor:1.3:3.6:2.9:5.6',\n",
       " 'versicolor:1.4:4.4:3.1:6.7',\n",
       " 'versicolor:1.5:4.5:3.0:5.6',\n",
       " 'versicolor:1.0:4.1:2.7:5.8',\n",
       " 'versicolor:1.5:4.5:2.2:6.2',\n",
       " 'versicolor:1.1:3.9:2.5:5.6',\n",
       " 'versicolor:1.8:4.8:3.2:5.9',\n",
       " 'versicolor:1.3:4.0:2.8:6.1',\n",
       " 'versicolor:1.5:4.9:2.5:6.3',\n",
       " 'versicolor:1.2:4.7:2.8:6.1',\n",
       " 'versicolor:1.3:4.3:2.9:6.4',\n",
       " 'versicolor:1.4:4.4:3.0:6.6',\n",
       " 'versicolor:1.4:4.8:2.8:6.8',\n",
       " 'versicolor:1.7:5.0:3.0:6.7',\n",
       " 'versicolor:1.5:4.5:2.9:6.0',\n",
       " 'versicolor:1.0:3.5:2.6:5.7',\n",
       " 'versicolor:1.1:3.8:2.4:5.5',\n",
       " 'versicolor:1.0:3.7:2.4:5.5',\n",
       " 'versicolor:1.2:3.9:2.7:5.8',\n",
       " 'versicolor:1.6:5.1:2.7:6.0',\n",
       " 'versicolor:1.5:4.5:3.0:5.4',\n",
       " 'versicolor:1.6:4.5:3.4:6.0',\n",
       " 'versicolor:1.5:4.7:3.1:6.7',\n",
       " 'versicolor:1.3:4.4:2.3:6.3',\n",
       " 'versicolor:1.3:4.1:3.0:5.6',\n",
       " 'versicolor:1.3:4.0:2.5:5.5',\n",
       " 'versicolor:1.2:4.4:2.6:5.5',\n",
       " 'versicolor:1.4:4.6:3.0:6.1',\n",
       " 'versicolor:1.2:4.0:2.6:5.8',\n",
       " 'versicolor:1.0:3.3:2.3:5.0',\n",
       " 'versicolor:1.3:4.2:2.7:5.6',\n",
       " 'versicolor:1.2:4.2:3.0:5.7',\n",
       " 'versicolor:1.3:4.2:2.9:5.7',\n",
       " 'versicolor:1.3:4.3:2.9:6.2',\n",
       " 'versicolor:1.1:3.0:2.5:5.1',\n",
       " 'versicolor:1.3:4.1:2.8:5.7',\n",
       " 'virginica:2.5:6.0:3.3:6.3',\n",
       " 'virginica:1.9:5.1:2.7:5.8',\n",
       " 'virginica:2.1:5.9:3.0:7.1',\n",
       " 'virginica:1.8:5.6:2.9:6.3',\n",
       " 'virginica:2.2:5.8:3.0:6.5',\n",
       " 'virginica:2.1:6.6:3.0:7.6',\n",
       " 'virginica:1.7:4.5:2.5:4.9',\n",
       " 'virginica:1.8:6.3:2.9:7.3',\n",
       " 'virginica:1.8:5.8:2.5:6.7',\n",
       " 'virginica:2.5:6.1:3.6:7.2',\n",
       " 'virginica:2.0:5.1:3.2:6.5',\n",
       " 'virginica:1.9:5.3:2.7:6.4',\n",
       " 'virginica:2.1:5.5:3.0:6.8',\n",
       " 'virginica:2.0:5.0:2.5:5.7',\n",
       " 'virginica:2.4:5.1:2.8:5.8',\n",
       " 'virginica:2.3:5.3:3.2:6.4',\n",
       " 'virginica:1.8:5.5:3.0:6.5',\n",
       " 'virginica:2.2:6.7:3.8:7.7',\n",
       " 'virginica:2.3:6.9:2.6:7.7',\n",
       " 'virginica:1.5:5.0:2.2:6.0',\n",
       " 'virginica:2.3:5.7:3.2:6.9',\n",
       " 'virginica:2.0:4.9:2.8:5.6',\n",
       " 'virginica:2.0:6.7:2.8:7.7',\n",
       " 'virginica:1.8:4.9:2.7:6.3',\n",
       " 'virginica:2.1:5.7:3.3:6.7',\n",
       " 'virginica:1.8:6.0:3.2:7.2',\n",
       " 'virginica:1.8:4.8:2.8:6.2',\n",
       " 'virginica:1.8:4.9:3.0:6.1',\n",
       " 'virginica:2.1:5.6:2.8:6.4',\n",
       " 'virginica:1.6:5.8:3.0:7.2',\n",
       " 'virginica:1.9:6.1:2.8:7.4',\n",
       " 'virginica:2.0:6.4:3.8:7.9',\n",
       " 'virginica:2.2:5.6:2.8:6.4',\n",
       " 'virginica:1.5:5.1:2.8:6.3',\n",
       " 'virginica:1.4:5.6:2.6:6.1',\n",
       " 'virginica:2.3:6.1:3.0:7.7',\n",
       " 'virginica:2.4:5.6:3.4:6.3',\n",
       " 'virginica:1.8:5.5:3.1:6.4',\n",
       " 'virginica:1.8:4.8:3.0:6.0',\n",
       " 'virginica:2.1:5.4:3.1:6.9',\n",
       " 'virginica:2.4:5.6:3.1:6.7',\n",
       " 'virginica:2.3:5.1:3.1:6.9',\n",
       " 'virginica:1.9:5.1:2.7:5.8',\n",
       " 'virginica:2.3:5.9:3.2:6.8',\n",
       " 'virginica:2.5:5.7:3.3:6.7',\n",
       " 'virginica:2.3:5.2:3.0:6.7',\n",
       " 'virginica:1.9:5.0:2.5:6.3',\n",
       " 'virginica:2.0:5.2:3.0:6.5',\n",
       " 'virginica:2.3:5.4:3.4:6.2',\n",
       " 'virginica:1.8:5.1:3.0:5.9']"
      ]
     },
     "execution_count": 138,
     "metadata": {},
     "output_type": "execute_result"
    }
   ],
   "source": [
    "\n",
    "# Reverses the order of the column and based on above removes 'Iris-' from the names of the flowers.\n",
    "# Also capitalises the first letter of the iris species\n",
    "[strip_iris.sub(r'\\5:\\4:\\3:\\2:\\1', line) for line in iris if line]"
   ]
  },
  {
   "cell_type": "code",
   "execution_count": 144,
   "id": "0f489a87",
   "metadata": {},
   "outputs": [
    {
     "data": {
      "text/plain": [
       "['setosa,0.2,1.4,3.5,5.1',\n",
       " 'setosa,0.2,1.4,3.0,4.9',\n",
       " 'setosa,0.2,1.3,3.2,4.7',\n",
       " 'setosa,0.2,1.5,3.1,4.6',\n",
       " 'setosa,0.2,1.4,3.6,5.0',\n",
       " 'setosa,0.4,1.7,3.9,5.4',\n",
       " 'setosa,0.3,1.4,3.4,4.6',\n",
       " 'setosa,0.2,1.5,3.4,5.0',\n",
       " 'setosa,0.2,1.4,2.9,4.4',\n",
       " 'setosa,0.1,1.5,3.1,4.9',\n",
       " 'setosa,0.2,1.5,3.7,5.4',\n",
       " 'setosa,0.2,1.6,3.4,4.8',\n",
       " 'setosa,0.1,1.4,3.0,4.8',\n",
       " 'setosa,0.1,1.1,3.0,4.3',\n",
       " 'setosa,0.2,1.2,4.0,5.8',\n",
       " 'setosa,0.4,1.5,4.4,5.7',\n",
       " 'setosa,0.4,1.3,3.9,5.4',\n",
       " 'setosa,0.3,1.4,3.5,5.1',\n",
       " 'setosa,0.3,1.7,3.8,5.7',\n",
       " 'setosa,0.3,1.5,3.8,5.1',\n",
       " 'setosa,0.2,1.7,3.4,5.4',\n",
       " 'setosa,0.4,1.5,3.7,5.1',\n",
       " 'setosa,0.2,1.0,3.6,4.6',\n",
       " 'setosa,0.5,1.7,3.3,5.1',\n",
       " 'setosa,0.2,1.9,3.4,4.8',\n",
       " 'setosa,0.2,1.6,3.0,5.0',\n",
       " 'setosa,0.4,1.6,3.4,5.0',\n",
       " 'setosa,0.2,1.5,3.5,5.2',\n",
       " 'setosa,0.2,1.4,3.4,5.2',\n",
       " 'setosa,0.2,1.6,3.2,4.7',\n",
       " 'setosa,0.2,1.6,3.1,4.8',\n",
       " 'setosa,0.4,1.5,3.4,5.4',\n",
       " 'setosa,0.1,1.5,4.1,5.2',\n",
       " 'setosa,0.2,1.4,4.2,5.5',\n",
       " 'setosa,0.1,1.5,3.1,4.9',\n",
       " 'setosa,0.2,1.2,3.2,5.0',\n",
       " 'setosa,0.2,1.3,3.5,5.5',\n",
       " 'setosa,0.1,1.5,3.1,4.9',\n",
       " 'setosa,0.2,1.3,3.0,4.4',\n",
       " 'setosa,0.2,1.5,3.4,5.1',\n",
       " 'setosa,0.3,1.3,3.5,5.0',\n",
       " 'setosa,0.3,1.3,2.3,4.5',\n",
       " 'setosa,0.2,1.3,3.2,4.4',\n",
       " 'setosa,0.6,1.6,3.5,5.0',\n",
       " 'setosa,0.4,1.9,3.8,5.1',\n",
       " 'setosa,0.3,1.4,3.0,4.8',\n",
       " 'setosa,0.2,1.6,3.8,5.1',\n",
       " 'setosa,0.2,1.4,3.2,4.6',\n",
       " 'setosa,0.2,1.5,3.7,5.3',\n",
       " 'setosa,0.2,1.4,3.3,5.0',\n",
       " 'versicolor,1.4,4.7,3.2,7.0',\n",
       " 'versicolor,1.5,4.5,3.2,6.4',\n",
       " 'versicolor,1.5,4.9,3.1,6.9',\n",
       " 'versicolor,1.3,4.0,2.3,5.5',\n",
       " 'versicolor,1.5,4.6,2.8,6.5',\n",
       " 'versicolor,1.3,4.5,2.8,5.7',\n",
       " 'versicolor,1.6,4.7,3.3,6.3',\n",
       " 'versicolor,1.0,3.3,2.4,4.9',\n",
       " 'versicolor,1.3,4.6,2.9,6.6',\n",
       " 'versicolor,1.4,3.9,2.7,5.2',\n",
       " 'versicolor,1.0,3.5,2.0,5.0',\n",
       " 'versicolor,1.5,4.2,3.0,5.9',\n",
       " 'versicolor,1.0,4.0,2.2,6.0',\n",
       " 'versicolor,1.4,4.7,2.9,6.1',\n",
       " 'versicolor,1.3,3.6,2.9,5.6',\n",
       " 'versicolor,1.4,4.4,3.1,6.7',\n",
       " 'versicolor,1.5,4.5,3.0,5.6',\n",
       " 'versicolor,1.0,4.1,2.7,5.8',\n",
       " 'versicolor,1.5,4.5,2.2,6.2',\n",
       " 'versicolor,1.1,3.9,2.5,5.6',\n",
       " 'versicolor,1.8,4.8,3.2,5.9',\n",
       " 'versicolor,1.3,4.0,2.8,6.1',\n",
       " 'versicolor,1.5,4.9,2.5,6.3',\n",
       " 'versicolor,1.2,4.7,2.8,6.1',\n",
       " 'versicolor,1.3,4.3,2.9,6.4',\n",
       " 'versicolor,1.4,4.4,3.0,6.6',\n",
       " 'versicolor,1.4,4.8,2.8,6.8',\n",
       " 'versicolor,1.7,5.0,3.0,6.7',\n",
       " 'versicolor,1.5,4.5,2.9,6.0',\n",
       " 'versicolor,1.0,3.5,2.6,5.7',\n",
       " 'versicolor,1.1,3.8,2.4,5.5',\n",
       " 'versicolor,1.0,3.7,2.4,5.5',\n",
       " 'versicolor,1.2,3.9,2.7,5.8',\n",
       " 'versicolor,1.6,5.1,2.7,6.0',\n",
       " 'versicolor,1.5,4.5,3.0,5.4',\n",
       " 'versicolor,1.6,4.5,3.4,6.0',\n",
       " 'versicolor,1.5,4.7,3.1,6.7',\n",
       " 'versicolor,1.3,4.4,2.3,6.3',\n",
       " 'versicolor,1.3,4.1,3.0,5.6',\n",
       " 'versicolor,1.3,4.0,2.5,5.5',\n",
       " 'versicolor,1.2,4.4,2.6,5.5',\n",
       " 'versicolor,1.4,4.6,3.0,6.1',\n",
       " 'versicolor,1.2,4.0,2.6,5.8',\n",
       " 'versicolor,1.0,3.3,2.3,5.0',\n",
       " 'versicolor,1.3,4.2,2.7,5.6',\n",
       " 'versicolor,1.2,4.2,3.0,5.7',\n",
       " 'versicolor,1.3,4.2,2.9,5.7',\n",
       " 'versicolor,1.3,4.3,2.9,6.2',\n",
       " 'versicolor,1.1,3.0,2.5,5.1',\n",
       " 'versicolor,1.3,4.1,2.8,5.7',\n",
       " 'virginica,2.5,6.0,3.3,6.3',\n",
       " 'virginica,1.9,5.1,2.7,5.8',\n",
       " 'virginica,2.1,5.9,3.0,7.1',\n",
       " 'virginica,1.8,5.6,2.9,6.3',\n",
       " 'virginica,2.2,5.8,3.0,6.5',\n",
       " 'virginica,2.1,6.6,3.0,7.6',\n",
       " 'virginica,1.7,4.5,2.5,4.9',\n",
       " 'virginica,1.8,6.3,2.9,7.3',\n",
       " 'virginica,1.8,5.8,2.5,6.7',\n",
       " 'virginica,2.5,6.1,3.6,7.2',\n",
       " 'virginica,2.0,5.1,3.2,6.5',\n",
       " 'virginica,1.9,5.3,2.7,6.4',\n",
       " 'virginica,2.1,5.5,3.0,6.8',\n",
       " 'virginica,2.0,5.0,2.5,5.7',\n",
       " 'virginica,2.4,5.1,2.8,5.8',\n",
       " 'virginica,2.3,5.3,3.2,6.4',\n",
       " 'virginica,1.8,5.5,3.0,6.5',\n",
       " 'virginica,2.2,6.7,3.8,7.7',\n",
       " 'virginica,2.3,6.9,2.6,7.7',\n",
       " 'virginica,1.5,5.0,2.2,6.0',\n",
       " 'virginica,2.3,5.7,3.2,6.9',\n",
       " 'virginica,2.0,4.9,2.8,5.6',\n",
       " 'virginica,2.0,6.7,2.8,7.7',\n",
       " 'virginica,1.8,4.9,2.7,6.3',\n",
       " 'virginica,2.1,5.7,3.3,6.7',\n",
       " 'virginica,1.8,6.0,3.2,7.2',\n",
       " 'virginica,1.8,4.8,2.8,6.2',\n",
       " 'virginica,1.8,4.9,3.0,6.1',\n",
       " 'virginica,2.1,5.6,2.8,6.4',\n",
       " 'virginica,1.6,5.8,3.0,7.2',\n",
       " 'virginica,1.9,6.1,2.8,7.4',\n",
       " 'virginica,2.0,6.4,3.8,7.9',\n",
       " 'virginica,2.2,5.6,2.8,6.4',\n",
       " 'virginica,1.5,5.1,2.8,6.3',\n",
       " 'virginica,1.4,5.6,2.6,6.1',\n",
       " 'virginica,2.3,6.1,3.0,7.7',\n",
       " 'virginica,2.4,5.6,3.4,6.3',\n",
       " 'virginica,1.8,5.5,3.1,6.4',\n",
       " 'virginica,1.8,4.8,3.0,6.0',\n",
       " 'virginica,2.1,5.4,3.1,6.9',\n",
       " 'virginica,2.4,5.6,3.1,6.7',\n",
       " 'virginica,2.3,5.1,3.1,6.9',\n",
       " 'virginica,1.9,5.1,2.7,5.8',\n",
       " 'virginica,2.3,5.9,3.2,6.8',\n",
       " 'virginica,2.5,5.7,3.3,6.7',\n",
       " 'virginica,2.3,5.2,3.0,6.7',\n",
       " 'virginica,1.9,5.0,2.5,6.3',\n",
       " 'virginica,2.0,5.2,3.0,6.5',\n",
       " 'virginica,2.3,5.4,3.4,6.2',\n",
       " 'virginica,1.8,5.1,3.0,5.9']"
      ]
     },
     "execution_count": 144,
     "metadata": {},
     "output_type": "execute_result"
    }
   ],
   "source": [
    "iris2 = [strip_iris.sub(r'\\5,\\4,\\3,\\2,\\1', line) for line in iris if line]\n",
    "iris2"
   ]
  },
  {
   "cell_type": "code",
   "execution_count": 153,
   "id": "027a4147",
   "metadata": {},
   "outputs": [
    {
     "data": {
      "text/plain": [
       "['Setosa,0.2,1.4,3.5,5.1',\n",
       " 'Setosa,0.2,1.4,3.0,4.9',\n",
       " 'Setosa,0.2,1.3,3.2,4.7',\n",
       " 'Setosa,0.2,1.5,3.1,4.6',\n",
       " 'Setosa,0.2,1.4,3.6,5.0',\n",
       " 'Setosa,0.4,1.7,3.9,5.4',\n",
       " 'Setosa,0.3,1.4,3.4,4.6',\n",
       " 'Setosa,0.2,1.5,3.4,5.0',\n",
       " 'Setosa,0.2,1.4,2.9,4.4',\n",
       " 'Setosa,0.1,1.5,3.1,4.9',\n",
       " 'Setosa,0.2,1.5,3.7,5.4',\n",
       " 'Setosa,0.2,1.6,3.4,4.8',\n",
       " 'Setosa,0.1,1.4,3.0,4.8',\n",
       " 'Setosa,0.1,1.1,3.0,4.3',\n",
       " 'Setosa,0.2,1.2,4.0,5.8',\n",
       " 'Setosa,0.4,1.5,4.4,5.7',\n",
       " 'Setosa,0.4,1.3,3.9,5.4',\n",
       " 'Setosa,0.3,1.4,3.5,5.1',\n",
       " 'Setosa,0.3,1.7,3.8,5.7',\n",
       " 'Setosa,0.3,1.5,3.8,5.1',\n",
       " 'Setosa,0.2,1.7,3.4,5.4',\n",
       " 'Setosa,0.4,1.5,3.7,5.1',\n",
       " 'Setosa,0.2,1.0,3.6,4.6',\n",
       " 'Setosa,0.5,1.7,3.3,5.1',\n",
       " 'Setosa,0.2,1.9,3.4,4.8',\n",
       " 'Setosa,0.2,1.6,3.0,5.0',\n",
       " 'Setosa,0.4,1.6,3.4,5.0',\n",
       " 'Setosa,0.2,1.5,3.5,5.2',\n",
       " 'Setosa,0.2,1.4,3.4,5.2',\n",
       " 'Setosa,0.2,1.6,3.2,4.7',\n",
       " 'Setosa,0.2,1.6,3.1,4.8',\n",
       " 'Setosa,0.4,1.5,3.4,5.4',\n",
       " 'Setosa,0.1,1.5,4.1,5.2',\n",
       " 'Setosa,0.2,1.4,4.2,5.5',\n",
       " 'Setosa,0.1,1.5,3.1,4.9',\n",
       " 'Setosa,0.2,1.2,3.2,5.0',\n",
       " 'Setosa,0.2,1.3,3.5,5.5',\n",
       " 'Setosa,0.1,1.5,3.1,4.9',\n",
       " 'Setosa,0.2,1.3,3.0,4.4',\n",
       " 'Setosa,0.2,1.5,3.4,5.1',\n",
       " 'Setosa,0.3,1.3,3.5,5.0',\n",
       " 'Setosa,0.3,1.3,2.3,4.5',\n",
       " 'Setosa,0.2,1.3,3.2,4.4',\n",
       " 'Setosa,0.6,1.6,3.5,5.0',\n",
       " 'Setosa,0.4,1.9,3.8,5.1',\n",
       " 'Setosa,0.3,1.4,3.0,4.8',\n",
       " 'Setosa,0.2,1.6,3.8,5.1',\n",
       " 'Setosa,0.2,1.4,3.2,4.6',\n",
       " 'Setosa,0.2,1.5,3.7,5.3',\n",
       " 'Setosa,0.2,1.4,3.3,5.0',\n",
       " 'Versicolor,1.4,4.7,3.2,7.0',\n",
       " 'Versicolor,1.5,4.5,3.2,6.4',\n",
       " 'Versicolor,1.5,4.9,3.1,6.9',\n",
       " 'Versicolor,1.3,4.0,2.3,5.5',\n",
       " 'Versicolor,1.5,4.6,2.8,6.5',\n",
       " 'Versicolor,1.3,4.5,2.8,5.7',\n",
       " 'Versicolor,1.6,4.7,3.3,6.3',\n",
       " 'Versicolor,1.0,3.3,2.4,4.9',\n",
       " 'Versicolor,1.3,4.6,2.9,6.6',\n",
       " 'Versicolor,1.4,3.9,2.7,5.2',\n",
       " 'Versicolor,1.0,3.5,2.0,5.0',\n",
       " 'Versicolor,1.5,4.2,3.0,5.9',\n",
       " 'Versicolor,1.0,4.0,2.2,6.0',\n",
       " 'Versicolor,1.4,4.7,2.9,6.1',\n",
       " 'Versicolor,1.3,3.6,2.9,5.6',\n",
       " 'Versicolor,1.4,4.4,3.1,6.7',\n",
       " 'Versicolor,1.5,4.5,3.0,5.6',\n",
       " 'Versicolor,1.0,4.1,2.7,5.8',\n",
       " 'Versicolor,1.5,4.5,2.2,6.2',\n",
       " 'Versicolor,1.1,3.9,2.5,5.6',\n",
       " 'Versicolor,1.8,4.8,3.2,5.9',\n",
       " 'Versicolor,1.3,4.0,2.8,6.1',\n",
       " 'Versicolor,1.5,4.9,2.5,6.3',\n",
       " 'Versicolor,1.2,4.7,2.8,6.1',\n",
       " 'Versicolor,1.3,4.3,2.9,6.4',\n",
       " 'Versicolor,1.4,4.4,3.0,6.6',\n",
       " 'Versicolor,1.4,4.8,2.8,6.8',\n",
       " 'Versicolor,1.7,5.0,3.0,6.7',\n",
       " 'Versicolor,1.5,4.5,2.9,6.0',\n",
       " 'Versicolor,1.0,3.5,2.6,5.7',\n",
       " 'Versicolor,1.1,3.8,2.4,5.5',\n",
       " 'Versicolor,1.0,3.7,2.4,5.5',\n",
       " 'Versicolor,1.2,3.9,2.7,5.8',\n",
       " 'Versicolor,1.6,5.1,2.7,6.0',\n",
       " 'Versicolor,1.5,4.5,3.0,5.4',\n",
       " 'Versicolor,1.6,4.5,3.4,6.0',\n",
       " 'Versicolor,1.5,4.7,3.1,6.7',\n",
       " 'Versicolor,1.3,4.4,2.3,6.3',\n",
       " 'Versicolor,1.3,4.1,3.0,5.6',\n",
       " 'Versicolor,1.3,4.0,2.5,5.5',\n",
       " 'Versicolor,1.2,4.4,2.6,5.5',\n",
       " 'Versicolor,1.4,4.6,3.0,6.1',\n",
       " 'Versicolor,1.2,4.0,2.6,5.8',\n",
       " 'Versicolor,1.0,3.3,2.3,5.0',\n",
       " 'Versicolor,1.3,4.2,2.7,5.6',\n",
       " 'Versicolor,1.2,4.2,3.0,5.7',\n",
       " 'Versicolor,1.3,4.2,2.9,5.7',\n",
       " 'Versicolor,1.3,4.3,2.9,6.2',\n",
       " 'Versicolor,1.1,3.0,2.5,5.1',\n",
       " 'Versicolor,1.3,4.1,2.8,5.7',\n",
       " 'Virginica,2.5,6.0,3.3,6.3',\n",
       " 'Virginica,1.9,5.1,2.7,5.8',\n",
       " 'Virginica,2.1,5.9,3.0,7.1',\n",
       " 'Virginica,1.8,5.6,2.9,6.3',\n",
       " 'Virginica,2.2,5.8,3.0,6.5',\n",
       " 'Virginica,2.1,6.6,3.0,7.6',\n",
       " 'Virginica,1.7,4.5,2.5,4.9',\n",
       " 'Virginica,1.8,6.3,2.9,7.3',\n",
       " 'Virginica,1.8,5.8,2.5,6.7',\n",
       " 'Virginica,2.5,6.1,3.6,7.2',\n",
       " 'Virginica,2.0,5.1,3.2,6.5',\n",
       " 'Virginica,1.9,5.3,2.7,6.4',\n",
       " 'Virginica,2.1,5.5,3.0,6.8',\n",
       " 'Virginica,2.0,5.0,2.5,5.7',\n",
       " 'Virginica,2.4,5.1,2.8,5.8',\n",
       " 'Virginica,2.3,5.3,3.2,6.4',\n",
       " 'Virginica,1.8,5.5,3.0,6.5',\n",
       " 'Virginica,2.2,6.7,3.8,7.7',\n",
       " 'Virginica,2.3,6.9,2.6,7.7',\n",
       " 'Virginica,1.5,5.0,2.2,6.0',\n",
       " 'Virginica,2.3,5.7,3.2,6.9',\n",
       " 'Virginica,2.0,4.9,2.8,5.6',\n",
       " 'Virginica,2.0,6.7,2.8,7.7',\n",
       " 'Virginica,1.8,4.9,2.7,6.3',\n",
       " 'Virginica,2.1,5.7,3.3,6.7',\n",
       " 'Virginica,1.8,6.0,3.2,7.2',\n",
       " 'Virginica,1.8,4.8,2.8,6.2',\n",
       " 'Virginica,1.8,4.9,3.0,6.1',\n",
       " 'Virginica,2.1,5.6,2.8,6.4',\n",
       " 'Virginica,1.6,5.8,3.0,7.2',\n",
       " 'Virginica,1.9,6.1,2.8,7.4',\n",
       " 'Virginica,2.0,6.4,3.8,7.9',\n",
       " 'Virginica,2.2,5.6,2.8,6.4',\n",
       " 'Virginica,1.5,5.1,2.8,6.3',\n",
       " 'Virginica,1.4,5.6,2.6,6.1',\n",
       " 'Virginica,2.3,6.1,3.0,7.7',\n",
       " 'Virginica,2.4,5.6,3.4,6.3',\n",
       " 'Virginica,1.8,5.5,3.1,6.4',\n",
       " 'Virginica,1.8,4.8,3.0,6.0',\n",
       " 'Virginica,2.1,5.4,3.1,6.9',\n",
       " 'Virginica,2.4,5.6,3.1,6.7',\n",
       " 'Virginica,2.3,5.1,3.1,6.9',\n",
       " 'Virginica,1.9,5.1,2.7,5.8',\n",
       " 'Virginica,2.3,5.9,3.2,6.8',\n",
       " 'Virginica,2.5,5.7,3.3,6.7',\n",
       " 'Virginica,2.3,5.2,3.0,6.7',\n",
       " 'Virginica,1.9,5.0,2.5,6.3',\n",
       " 'Virginica,2.0,5.2,3.0,6.5',\n",
       " 'Virginica,2.3,5.4,3.4,6.2',\n",
       " 'Virginica,1.8,5.1,3.0,5.9']"
      ]
     },
     "execution_count": 153,
     "metadata": {},
     "output_type": "execute_result"
    }
   ],
   "source": [
    "def convert_into_uppercase(a):\n",
    "    return a.group(1) + a.group(2).upper()\n",
    "\n",
    "[re.sub(\"(^|\\s)(\\S)\", convert_into_uppercase, line) for line in iris2 if line]\n"
   ]
  },
  {
   "cell_type": "code",
   "execution_count": null,
   "id": "05be56fe",
   "metadata": {},
   "outputs": [],
   "source": []
  }
 ],
 "metadata": {
  "kernelspec": {
   "display_name": "Python 3 (ipykernel)",
   "language": "python",
   "name": "python3"
  },
  "language_info": {
   "codemirror_mode": {
    "name": "ipython",
    "version": 3
   },
   "file_extension": ".py",
   "mimetype": "text/x-python",
   "name": "python",
   "nbconvert_exporter": "python",
   "pygments_lexer": "ipython3",
   "version": "3.9.13"
  }
 },
 "nbformat": 4,
 "nbformat_minor": 5
}
