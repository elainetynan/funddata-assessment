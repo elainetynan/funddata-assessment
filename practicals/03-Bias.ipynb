{
 "cells": [
  {
   "cell_type": "markdown",
   "id": "bfc5d9dc",
   "metadata": {},
   "source": [
    "# Bias"
   ]
  },
  {
   "cell_type": "markdown",
   "id": "93ee52fc",
   "metadata": {},
   "source": [
    "Bias - statistical and cognitive."
   ]
  },
  {
   "cell_type": "code",
   "execution_count": null,
   "id": "386e1404",
   "metadata": {},
   "outputs": [],
   "source": [
    "import numpy as np # Numerical arrays\n",
    "import matplotlib.pyplot as plt # plots"
   ]
  },
  {
   "cell_type": "markdown",
   "id": "256d4628",
   "metadata": {},
   "source": [
    "## Cognitive Bias"
   ]
  },
  {
   "cell_type": "markdown",
   "id": "b67cb888",
   "metadata": {},
   "source": [
    "\n",
    "[Judgment under Uncertainty: Heuristics and Biases;](https://github.com/ianmcloughlin/papers/raw/master/tversky-kahneman-heuristics-biases.pdf)\n",
    "Amos Tversky and Daniel Kahneman; Science, New Series, Vol. 185, No. 4157. (Sep. 27, 1974), pp. 1124-1131.\n",
    "\n",
    "The Framing of Decisions and the Psychology of Choice;\n",
    "Amos Tversky and Daniel Kahneman; Science, Vol. 211, 30 January 1981.\n",
    "\n",
    "Unskilled and Unaware of It: How Difficulties in Recognizing One's Own Incompetence Lead to Inflated Self-Assessments;\n",
    "Justin Kruger and David Dunning; Psychology, 2009, 1, 30-46.\n",
    "\n",
    "Aristotle’s Rhetoric;\n",
    "Stanford Encyclopedia of Philosophy\n",
    "\n",
    "Logos, Ethos, Pathos, Kairos;\n",
    "University of Louisville Writing Center.\n"
   ]
  },
  {
   "cell_type": "markdown",
   "id": "de84dcf8",
   "metadata": {},
   "source": [
    "## Guessing Game"
   ]
  },
  {
   "cell_type": "code",
   "execution_count": 3,
   "id": "a48ea365",
   "metadata": {},
   "outputs": [
    {
     "ename": "SyntaxError",
     "evalue": "unexpected EOF while parsing (2621841323.py, line 5)",
     "output_type": "error",
     "traceback": [
      "\u001b[1;36m  Input \u001b[1;32mIn [3]\u001b[1;36m\u001b[0m\n\u001b[1;33m    return True if o__.__ge__(0b10001, len(L) * 2 + sum([i - 0b10 for i in L])) and all([o__.__ge__(L[::-1][i], L[::-1][i+0b1])\u001b[0m\n\u001b[1;37m                                                                                                                                ^\u001b[0m\n\u001b[1;31mSyntaxError\u001b[0m\u001b[1;31m:\u001b[0m unexpected EOF while parsing\n"
     ]
    }
   ],
   "source": [
    "# This code is obscure on purpose.\n",
    "import operator as o__\n",
    "\n",
    "def test(L):\n",
    "    return True if o__.__ge__(0b10001, len(L) * 2 + sum([i - 0b10 for i in L])) and all([o__.__ge__(L[::-1][i], L[::-1][i+0b1]) "
   ]
  },
  {
   "cell_type": "code",
   "execution_count": 4,
   "id": "c21edbd7",
   "metadata": {},
   "outputs": [
    {
     "ename": "NameError",
     "evalue": "name 'test' is not defined",
     "output_type": "error",
     "traceback": [
      "\u001b[1;31m---------------------------------------------------------------------------\u001b[0m",
      "\u001b[1;31mNameError\u001b[0m                                 Traceback (most recent call last)",
      "Input \u001b[1;32mIn [4]\u001b[0m, in \u001b[0;36m<cell line: 1>\u001b[1;34m()\u001b[0m\n\u001b[1;32m----> 1\u001b[0m \u001b[43mtest\u001b[49m([\u001b[38;5;241m1\u001b[39m, \u001b[38;5;241m2\u001b[39m, \u001b[38;5;241m3\u001b[39m, \u001b[38;5;241m4\u001b[39m])\n",
      "\u001b[1;31mNameError\u001b[0m: name 'test' is not defined"
     ]
    }
   ],
   "source": [
    "test([1, 2, 3, 4])"
   ]
  },
  {
   "cell_type": "code",
   "execution_count": null,
   "id": "ef34846a",
   "metadata": {},
   "outputs": [],
   "source": []
  }
 ],
 "metadata": {
  "kernelspec": {
   "display_name": "Python 3 (ipykernel)",
   "language": "python",
   "name": "python3"
  },
  "language_info": {
   "codemirror_mode": {
    "name": "ipython",
    "version": 3
   },
   "file_extension": ".py",
   "mimetype": "text/x-python",
   "name": "python",
   "nbconvert_exporter": "python",
   "pygments_lexer": "ipython3",
   "version": "3.9.13"
  }
 },
 "nbformat": 4,
 "nbformat_minor": 5
}
