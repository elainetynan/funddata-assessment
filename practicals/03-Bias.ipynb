{
 "cells": [
  {
   "cell_type": "markdown",
   "id": "bfc5d9dc",
   "metadata": {},
   "source": [
    "# Bias"
   ]
  },
  {
   "cell_type": "markdown",
   "id": "93ee52fc",
   "metadata": {},
   "source": [
    "Bias - statistical and cognitive."
   ]
  },
  {
   "cell_type": "code",
   "execution_count": 1,
   "id": "386e1404",
   "metadata": {},
   "outputs": [],
   "source": [
    "import numpy as np # Numerical arrays\n",
    "import matplotlib.pyplot as plt # plots"
   ]
  },
  {
   "cell_type": "markdown",
   "id": "256d4628",
   "metadata": {},
   "source": [
    "## Cognitive Bias"
   ]
  },
  {
   "cell_type": "markdown",
   "id": "b67cb888",
   "metadata": {},
   "source": [
    "\n",
    "[Judgment under Uncertainty: Heuristics and Biases;](https://github.com/ianmcloughlin/papers/raw/master/tversky-kahneman-heuristics-biases.pdf)\n",
    "Amos Tversky and Daniel Kahneman; Science, New Series, Vol. 185, No. 4157. (Sep. 27, 1974), pp. 1124-1131.\n",
    "\n",
    "The Framing of Decisions and the Psychology of Choice;\n",
    "Amos Tversky and Daniel Kahneman; Science, Vol. 211, 30 January 1981.\n",
    "\n",
    "Unskilled and Unaware of It: How Difficulties in Recognizing One's Own Incompetence Lead to Inflated Self-Assessments;\n",
    "Justin Kruger and David Dunning; Psychology, 2009, 1, 30-46.\n",
    "\n",
    "[Aristotle’s Rhetoric;](https://plato.stanford.edu/entries/aristotle-rhetoric/)\n",
    "Stanford Encyclopedia of Philosophy\n",
    "\n",
    "Logos, Ethos, Pathos, Kairos;\n",
    "University of Louisville Writing Center.\n"
   ]
  },
  {
   "cell_type": "markdown",
   "id": "de84dcf8",
   "metadata": {},
   "source": [
    "## Guessing Game"
   ]
  },
  {
   "cell_type": "code",
   "execution_count": 4,
   "id": "a48ea365",
   "metadata": {},
   "outputs": [],
   "source": [
    "# This code is obscure on purpose.\n",
    "import operator as o__\n",
    "\n",
    "# The list L must be a list of integers\n",
    "def test(L):\n",
    "    return True if o__.__ge__(0b10001, len(L) * 2 + sum([i - 0b10 for i in L])) and all([o__.__ge__(L[::-1][i], L[::-1][i+0b1]) for i in range(len(L)-1)]) else False"
   ]
  },
  {
   "cell_type": "code",
   "execution_count": 5,
   "id": "c21edbd7",
   "metadata": {},
   "outputs": [
    {
     "data": {
      "text/plain": [
       "True"
      ]
     },
     "execution_count": 5,
     "metadata": {},
     "output_type": "execute_result"
    }
   ],
   "source": [
    "test([1, 2, 3, 4])"
   ]
  },
  {
   "cell_type": "code",
   "execution_count": 7,
   "id": "ef34846a",
   "metadata": {},
   "outputs": [
    {
     "data": {
      "text/plain": [
       "True"
      ]
     },
     "execution_count": 7,
     "metadata": {},
     "output_type": "execute_result"
    }
   ],
   "source": [
    "test([2,3])"
   ]
  },
  {
   "cell_type": "code",
   "execution_count": 8,
   "id": "de78e723",
   "metadata": {},
   "outputs": [
    {
     "data": {
      "text/plain": [
       "False"
      ]
     },
     "execution_count": 8,
     "metadata": {},
     "output_type": "execute_result"
    }
   ],
   "source": [
    "test([3,2,1])"
   ]
  },
  {
   "cell_type": "code",
   "execution_count": 9,
   "id": "a807a005",
   "metadata": {},
   "outputs": [
    {
     "data": {
      "text/plain": [
       "True"
      ]
     },
     "execution_count": 9,
     "metadata": {},
     "output_type": "execute_result"
    }
   ],
   "source": [
    "test([1, 2, 3, 10])"
   ]
  },
  {
   "cell_type": "code",
   "execution_count": 10,
   "id": "595841dc",
   "metadata": {},
   "outputs": [
    {
     "data": {
      "text/plain": [
       "False"
      ]
     },
     "execution_count": 10,
     "metadata": {},
     "output_type": "execute_result"
    }
   ],
   "source": [
    "test([1, 3, 2])"
   ]
  },
  {
   "cell_type": "code",
   "execution_count": 11,
   "id": "ab1b8a94",
   "metadata": {},
   "outputs": [
    {
     "data": {
      "text/plain": [
       "False"
      ]
     },
     "execution_count": 11,
     "metadata": {},
     "output_type": "execute_result"
    }
   ],
   "source": [
    "test([2, 3, 5, 10]) # This gives false so the rule is not for 'data that is not in descending order'"
   ]
  },
  {
   "cell_type": "code",
   "execution_count": null,
   "id": "75337f77",
   "metadata": {},
   "outputs": [],
   "source": []
  }
 ],
 "metadata": {
  "kernelspec": {
   "display_name": "Python 3 (ipykernel)",
   "language": "python",
   "name": "python3"
  },
  "language_info": {
   "codemirror_mode": {
    "name": "ipython",
    "version": 3
   },
   "file_extension": ".py",
   "mimetype": "text/x-python",
   "name": "python",
   "nbconvert_exporter": "python",
   "pygments_lexer": "ipython3",
   "version": "3.9.13"
  }
 },
 "nbformat": 4,
 "nbformat_minor": 5
}
