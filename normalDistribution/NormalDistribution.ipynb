{
 "cells": [
  {
   "cell_type": "markdown",
   "id": "bb96e78a",
   "metadata": {},
   "source": [
    "# Normal Distribution"
   ]
  },
  {
   "cell_type": "markdown",
   "id": "f58a711b",
   "metadata": {},
   "source": [
    "Normal distribution is also known as the Gaussian distribution (because it was first discovered by Carl Friedrich Gauss).\n",
    "\n",
    "All distributions describe how the values of a variable are distributed.\n",
    "\n",
    "Normal Distribution describes the distribution of values for many natural phenomena, for example height of adult males in Ireland, IQ scores, etc.\n",
    "\n",
    "It is a very important probability distribution in statistics. It is a continuous probability distribution that is symmetrical around it's mean. When plotted on a graph it will give you what is commonly known as a __Bell Curve__"
   ]
  },
  {
   "cell_type": "code",
   "execution_count": 1,
   "id": "fb81c1b6",
   "metadata": {},
   "outputs": [],
   "source": [
    "import numpy as np\n",
    "import matplotlib.pyplot as plt"
   ]
  },
  {
   "cell_type": "code",
   "execution_count": null,
   "id": "8a8f8f65",
   "metadata": {},
   "outputs": [],
   "source": []
  }
 ],
 "metadata": {
  "kernelspec": {
   "display_name": "Python 3 (ipykernel)",
   "language": "python",
   "name": "python3"
  },
  "language_info": {
   "codemirror_mode": {
    "name": "ipython",
    "version": 3
   },
   "file_extension": ".py",
   "mimetype": "text/x-python",
   "name": "python",
   "nbconvert_exporter": "python",
   "pygments_lexer": "ipython3",
   "version": "3.9.13"
  }
 },
 "nbformat": 4,
 "nbformat_minor": 5
}
